{
 "cells": [
  {
   "cell_type": "code",
   "execution_count": 27,
   "metadata": {},
   "outputs": [
    {
     "name": "stdout",
     "output_type": "stream",
     "text": [
      "Requirement already satisfied: wikipedia in c:\\programdata\\anaconda3\\lib\\site-packages (1.4.0)Note: you may need to restart the kernel to use updated packages.\n",
      "Requirement already satisfied: requests<3.0.0,>=2.0.0 in c:\\programdata\\anaconda3\\lib\\site-packages (from wikipedia) (2.24.0)\n",
      "Requirement already satisfied: beautifulsoup4 in c:\\programdata\\anaconda3\\lib\\site-packages (from wikipedia) (4.9.3)\n",
      "\n",
      "Requirement already satisfied: certifi>=2017.4.17 in c:\\programdata\\anaconda3\\lib\\site-packages (from requests<3.0.0,>=2.0.0->wikipedia) (2020.6.20)\n",
      "Requirement already satisfied: urllib3!=1.25.0,!=1.25.1,<1.26,>=1.21.1 in c:\\programdata\\anaconda3\\lib\\site-packages (from requests<3.0.0,>=2.0.0->wikipedia) (1.25.11)\n",
      "Requirement already satisfied: chardet<4,>=3.0.2 in c:\\programdata\\anaconda3\\lib\\site-packages (from requests<3.0.0,>=2.0.0->wikipedia) (3.0.4)\n",
      "Requirement already satisfied: idna<3,>=2.5 in c:\\programdata\\anaconda3\\lib\\site-packages (from requests<3.0.0,>=2.0.0->wikipedia) (2.10)\n",
      "Requirement already satisfied: soupsieve>1.2; python_version >= \"3.0\" in c:\\programdata\\anaconda3\\lib\\site-packages (from beautifulsoup4->wikipedia) (2.0.1)\n"
     ]
    }
   ],
   "source": [
    "pip install wikipedia"
   ]
  },
  {
   "cell_type": "code",
   "execution_count": 28,
   "metadata": {},
   "outputs": [
    {
     "name": "stdout",
     "output_type": "stream",
     "text": [
      "Lahore ( lə-HOR; Punjabi: لہور [ˈlɔ̀ːɾə̆]; Urdu: لاہور [laːˈɦɔːɾ] (listen)) is the second largest city in Pakistan after Karachi and 26th largest in the world, with a population of over 13 million. It is situated in the north-east of the country with River Ravi flowing north-west of the city. It is the capital of the province of Punjab, where it is the largest city. Lahore is one of Pakistan's major industrial and economic hubs. It has been the historic capital and cultural centre of the wider Punjab region, and is one of Pakistan's most socially liberal, progressive, and cosmopolitan cities.Lahore's origins reach into antiquity. The city has been inhabited for at least two millennia, although it rose to prominence in the 10th century. Lahore was the capital of multiple empires throughout its history, including the Hindu Shahis, Ghaznavids, and Delhi Sultanate in the medieval era. Lahore reached the height of its splendor under the Mughal Empire between the late 16th and early 18th century and served as its capital city for many years. During this period, it was one of the largest cities in the medieval world.  The city was captured by the forces of the Afsharid ruler Nader Shah in 1739. Although the Mughal authority was re-established, it fell into a period of decay while being contested among the Afghans and the Sikhs between 1748 and 1798. Lahore eventually became the capital of the Sikh Empire in the early 19th century, regaining some of its lost grandeur. Lahore was annexed to the British Raj in 1849 and became the capital of British Punjab. Lahore was central to the independence movements of both India and Pakistan, with the city being the site of both the declaration of Indian Independence and the resolution calling for the establishment of Pakistan. It experienced some of the worst riotings during the Partition period preceding Pakistan's independence. Following the success of the Pakistan Movement and the subsequent partition of British India in 1947, Lahore was declared the capital of Pakistan's Punjab province.\n",
      "Lahore exerts a strong cultural influence over Pakistan. A UNESCO City of Literature and major center for Pakistan's publishing industry, Lahore remains the foremost center of Pakistan's literary scene. The city is also a major centre of education in Pakistan, with some of Pakistan's leading universities based in the city. For many years, Lahore was home to Pakistan's film industry, Lollywood, though in recent years most filming has shifted to Karachi. Lahore is a major centre of Qawwali music. The city also hosts much of Pakistan's tourist industry, with major attractions including the Walled City, the famous Badshahi and Wazir Khan mosques, as well as several Sikh and Sufi shrines. Lahore is also home to the Lahore Fort and Shalimar Gardens, both of which are UNESCO World Heritage Sites.\n"
     ]
    }
   ],
   "source": [
    "import wikipedia\n",
    "\n",
    "text = wikipedia.summary(\"Lahore\")\n",
    "\n",
    "print(text)"
   ]
  },
  {
   "cell_type": "code",
   "execution_count": 29,
   "metadata": {},
   "outputs": [
    {
     "name": "stdout",
     "output_type": "stream",
     "text": [
      "lahore ( lə-hor; punjabi: لہور [ˈlɔ̀ːɾə̆]; urdu: لاہور [laːˈɦɔːɾ] (listen)) is the second largest city in pakistan after karachi and 26th largest in the world, with a population of over 13 million. it is situated in the north-east of the country with river ravi flowing north-west of the city. it is the capital of the province of punjab, where it is the largest city. lahore is one of pakistan's major industrial and economic hubs. it has been the historic capital and cultural centre of the wider punjab region, and is one of pakistan's most socially liberal, progressive, and cosmopolitan cities.lahore's origins reach into antiquity. the city has been inhabited for at least two millennia, although it rose to prominence in the 10th century. lahore was the capital of multiple empires throughout its history, including the hindu shahis, ghaznavids, and delhi sultanate in the medieval era. lahore reached the height of its splendor under the mughal empire between the late 16th and early 18th century and served as its capital city for many years. during this period, it was one of the largest cities in the medieval world.  the city was captured by the forces of the afsharid ruler nader shah in 1739. although the mughal authority was re-established, it fell into a period of decay while being contested among the afghans and the sikhs between 1748 and 1798. lahore eventually became the capital of the sikh empire in the early 19th century, regaining some of its lost grandeur. lahore was annexed to the british raj in 1849 and became the capital of british punjab. lahore was central to the independence movements of both india and pakistan, with the city being the site of both the declaration of indian independence and the resolution calling for the establishment of pakistan. it experienced some of the worst riotings during the partition period preceding pakistan's independence. following the success of the pakistan movement and the subsequent partition of british india in 1947, lahore was declared the capital of pakistan's punjab province.\n",
      "lahore exerts a strong cultural influence over pakistan. a unesco city of literature and major center for pakistan's publishing industry, lahore remains the foremost center of pakistan's literary scene. the city is also a major centre of education in pakistan, with some of pakistan's leading universities based in the city. for many years, lahore was home to pakistan's film industry, lollywood, though in recent years most filming has shifted to karachi. lahore is a major centre of qawwali music. the city also hosts much of pakistan's tourist industry, with major attractions including the walled city, the famous badshahi and wazir khan mosques, as well as several sikh and sufi shrines. lahore is also home to the lahore fort and shalimar gardens, both of which are unesco world heritage sites.\n"
     ]
    }
   ],
   "source": [
    "lower_text = text.lower()\n",
    "print(lower_text)"
   ]
  },
  {
   "cell_type": "code",
   "execution_count": 30,
   "metadata": {},
   "outputs": [
    {
     "name": "stdout",
     "output_type": "stream",
     "text": [
      "lahore l hor punjabi [ l ] urdu [la ] listen is the second largest city in pakistan after karachi and th largest in the world with a population of over million it is situated in the north east of the country with river ravi flowing north west of the city it is the capital of the province of punjab where it is the largest city lahore is one of pakistan s major industrial and economic hubs it has been the historic capital and cultural centre of the wider punjab region and is one of pakistan s most socially liberal progressive and cosmopolitan cities lahore s origins reach into antiquity the city has been inhabited for at least two millennia although it rose to prominence in the th century lahore was the capital of multiple empires throughout its history including the hindu shahis ghaznavids and delhi sultanate in the medieval era lahore reached the height of its splendor under the mughal empire between the late th and early th century and served as its capital city for many years during this period it was one of the largest cities in the medieval world the city was captured by the forces of the afsharid ruler nader shah in although the mughal authority was re established it fell into a period of decay while being contested among the afghans and the sikhs between and lahore eventually became the capital of the sikh empire in the early th century regaining some of its lost grandeur lahore was annexed to the british raj in and became the capital of british punjab lahore was central to the independence movements of both india and pakistan with the city being the site of both the declaration of indian independence and the resolution calling for the establishment of pakistan it experienced some of the worst riotings during the partition period preceding pakistan s independence following the success of the pakistan movement and the subsequent partition of british india in lahore was declared the capital of pakistan s punjab province lahore exerts a strong cultural influence over pakistan a unesco city of literature and major center for pakistan s publishing industry lahore remains the foremost center of pakistan s literary scene the city is also a major centre of education in pakistan with some of pakistan s leading universities based in the city for many years lahore was home to pakistan s film industry lollywood though in recent years most filming has shifted to karachi lahore is a major centre of qawwali music the city also hosts much of pakistan s tourist industry with major attractions including the walled city the famous badshahi and wazir khan mosques as well as several sikh and sufi shrines lahore is also home to the lahore fort and shalimar gardens both of which are unesco world heritage sites\n"
     ]
    }
   ],
   "source": [
    "import re\n",
    "words = re.findall(r'[A-z]+', lower_text)\n",
    "                   \n",
    "cleaned_text = \" \".join(words)\n",
    "print(cleaned_text)"
   ]
  },
  {
   "cell_type": "code",
   "execution_count": 31,
   "metadata": {},
   "outputs": [],
   "source": [
    "import nltk\n",
    "from nltk.tokenize import word_tokenize"
   ]
  },
  {
   "cell_type": "code",
   "execution_count": 32,
   "metadata": {},
   "outputs": [
    {
     "name": "stderr",
     "output_type": "stream",
     "text": [
      "[nltk_data] Downloading package punkt to\n",
      "[nltk_data]     C:\\Users\\lab1\\AppData\\Roaming\\nltk_data...\n",
      "[nltk_data]   Package punkt is already up-to-date!\n"
     ]
    },
    {
     "data": {
      "text/plain": [
       "True"
      ]
     },
     "execution_count": 32,
     "metadata": {},
     "output_type": "execute_result"
    }
   ],
   "source": [
    "nltk.download('punkt')"
   ]
  },
  {
   "cell_type": "code",
   "execution_count": 33,
   "metadata": {},
   "outputs": [
    {
     "name": "stdout",
     "output_type": "stream",
     "text": [
      "['lahore', 'l', 'hor', 'punjabi', '[', 'l', ']', 'urdu', '[', 'la', ']', 'listen', 'is', 'the', 'second', 'largest', 'city', 'in', 'pakistan', 'after', 'karachi', 'and', 'th', 'largest', 'in', 'the', 'world', 'with', 'a', 'population', 'of', 'over', 'million', 'it', 'is', 'situated', 'in', 'the', 'north', 'east', 'of', 'the', 'country', 'with', 'river', 'ravi', 'flowing', 'north', 'west', 'of', 'the', 'city', 'it', 'is', 'the', 'capital', 'of', 'the', 'province', 'of', 'punjab', 'where', 'it', 'is', 'the', 'largest', 'city', 'lahore', 'is', 'one', 'of', 'pakistan', 's', 'major', 'industrial', 'and', 'economic', 'hubs', 'it', 'has', 'been', 'the', 'historic', 'capital', 'and', 'cultural', 'centre', 'of', 'the', 'wider', 'punjab', 'region', 'and', 'is', 'one', 'of', 'pakistan', 's', 'most', 'socially', 'liberal', 'progressive', 'and', 'cosmopolitan', 'cities', 'lahore', 's', 'origins', 'reach', 'into', 'antiquity', 'the', 'city', 'has', 'been', 'inhabited', 'for', 'at', 'least', 'two', 'millennia', 'although', 'it', 'rose', 'to', 'prominence', 'in', 'the', 'th', 'century', 'lahore', 'was', 'the', 'capital', 'of', 'multiple', 'empires', 'throughout', 'its', 'history', 'including', 'the', 'hindu', 'shahis', 'ghaznavids', 'and', 'delhi', 'sultanate', 'in', 'the', 'medieval', 'era', 'lahore', 'reached', 'the', 'height', 'of', 'its', 'splendor', 'under', 'the', 'mughal', 'empire', 'between', 'the', 'late', 'th', 'and', 'early', 'th', 'century', 'and', 'served', 'as', 'its', 'capital', 'city', 'for', 'many', 'years', 'during', 'this', 'period', 'it', 'was', 'one', 'of', 'the', 'largest', 'cities', 'in', 'the', 'medieval', 'world', 'the', 'city', 'was', 'captured', 'by', 'the', 'forces', 'of', 'the', 'afsharid', 'ruler', 'nader', 'shah', 'in', 'although', 'the', 'mughal', 'authority', 'was', 're', 'established', 'it', 'fell', 'into', 'a', 'period', 'of', 'decay', 'while', 'being', 'contested', 'among', 'the', 'afghans', 'and', 'the', 'sikhs', 'between', 'and', 'lahore', 'eventually', 'became', 'the', 'capital', 'of', 'the', 'sikh', 'empire', 'in', 'the', 'early', 'th', 'century', 'regaining', 'some', 'of', 'its', 'lost', 'grandeur', 'lahore', 'was', 'annexed', 'to', 'the', 'british', 'raj', 'in', 'and', 'became', 'the', 'capital', 'of', 'british', 'punjab', 'lahore', 'was', 'central', 'to', 'the', 'independence', 'movements', 'of', 'both', 'india', 'and', 'pakistan', 'with', 'the', 'city', 'being', 'the', 'site', 'of', 'both', 'the', 'declaration', 'of', 'indian', 'independence', 'and', 'the', 'resolution', 'calling', 'for', 'the', 'establishment', 'of', 'pakistan', 'it', 'experienced', 'some', 'of', 'the', 'worst', 'riotings', 'during', 'the', 'partition', 'period', 'preceding', 'pakistan', 's', 'independence', 'following', 'the', 'success', 'of', 'the', 'pakistan', 'movement', 'and', 'the', 'subsequent', 'partition', 'of', 'british', 'india', 'in', 'lahore', 'was', 'declared', 'the', 'capital', 'of', 'pakistan', 's', 'punjab', 'province', 'lahore', 'exerts', 'a', 'strong', 'cultural', 'influence', 'over', 'pakistan', 'a', 'unesco', 'city', 'of', 'literature', 'and', 'major', 'center', 'for', 'pakistan', 's', 'publishing', 'industry', 'lahore', 'remains', 'the', 'foremost', 'center', 'of', 'pakistan', 's', 'literary', 'scene', 'the', 'city', 'is', 'also', 'a', 'major', 'centre', 'of', 'education', 'in', 'pakistan', 'with', 'some', 'of', 'pakistan', 's', 'leading', 'universities', 'based', 'in', 'the', 'city', 'for', 'many', 'years', 'lahore', 'was', 'home', 'to', 'pakistan', 's', 'film', 'industry', 'lollywood', 'though', 'in', 'recent', 'years', 'most', 'filming', 'has', 'shifted', 'to', 'karachi', 'lahore', 'is', 'a', 'major', 'centre', 'of', 'qawwali', 'music', 'the', 'city', 'also', 'hosts', 'much', 'of', 'pakistan', 's', 'tourist', 'industry', 'with', 'major', 'attractions', 'including', 'the', 'walled', 'city', 'the', 'famous', 'badshahi', 'and', 'wazir', 'khan', 'mosques', 'as', 'well', 'as', 'several', 'sikh', 'and', 'sufi', 'shrines', 'lahore', 'is', 'also', 'home', 'to', 'the', 'lahore', 'fort', 'and', 'shalimar', 'gardens', 'both', 'of', 'which', 'are', 'unesco', 'world', 'heritage', 'sites']\n"
     ]
    }
   ],
   "source": [
    "tokenized_text = word_tokenize(cleaned_text)\n",
    "print(tokenized_text)"
   ]
  },
  {
   "cell_type": "code",
   "execution_count": 34,
   "metadata": {},
   "outputs": [
    {
     "name": "stdout",
     "output_type": "stream",
     "text": [
      "['i', 'me', 'my', 'myself', 'we', 'our', 'ours', 'ourselves', 'you', \"you're\", \"you've\", \"you'll\", \"you'd\", 'your', 'yours', 'yourself', 'yourselves', 'he', 'him', 'his', 'himself', 'she', \"she's\", 'her', 'hers', 'herself', 'it', \"it's\", 'its', 'itself', 'they', 'them', 'their', 'theirs', 'themselves', 'what', 'which', 'who', 'whom', 'this', 'that', \"that'll\", 'these', 'those', 'am', 'is', 'are', 'was', 'were', 'be', 'been', 'being', 'have', 'has', 'had', 'having', 'do', 'does', 'did', 'doing', 'a', 'an', 'the', 'and', 'but', 'if', 'or', 'because', 'as', 'until', 'while', 'of', 'at', 'by', 'for', 'with', 'about', 'against', 'between', 'into', 'through', 'during', 'before', 'after', 'above', 'below', 'to', 'from', 'up', 'down', 'in', 'out', 'on', 'off', 'over', 'under', 'again', 'further', 'then', 'once', 'here', 'there', 'when', 'where', 'why', 'how', 'all', 'any', 'both', 'each', 'few', 'more', 'most', 'other', 'some', 'such', 'no', 'nor', 'not', 'only', 'own', 'same', 'so', 'than', 'too', 'very', 's', 't', 'can', 'will', 'just', 'don', \"don't\", 'should', \"should've\", 'now', 'd', 'll', 'm', 'o', 're', 've', 'y', 'ain', 'aren', \"aren't\", 'couldn', \"couldn't\", 'didn', \"didn't\", 'doesn', \"doesn't\", 'hadn', \"hadn't\", 'hasn', \"hasn't\", 'haven', \"haven't\", 'isn', \"isn't\", 'ma', 'mightn', \"mightn't\", 'mustn', \"mustn't\", 'needn', \"needn't\", 'shan', \"shan't\", 'shouldn', \"shouldn't\", 'wasn', \"wasn't\", 'weren', \"weren't\", 'won', \"won't\", 'wouldn', \"wouldn't\"]\n"
     ]
    },
    {
     "name": "stderr",
     "output_type": "stream",
     "text": [
      "[nltk_data] Downloading package stopwords to\n",
      "[nltk_data]     C:\\Users\\lab1\\AppData\\Roaming\\nltk_data...\n",
      "[nltk_data]   Package stopwords is already up-to-date!\n"
     ]
    }
   ],
   "source": [
    "nltk.download('stopwords')\n",
    "from nltk.corpus import stopwords\n",
    "sw_nltk = stopwords.words('english')\n",
    "print(sw_nltk)"
   ]
  },
  {
   "cell_type": "code",
   "execution_count": 35,
   "metadata": {},
   "outputs": [
    {
     "name": "stdout",
     "output_type": "stream",
     "text": [
      "lahore l hor punjabi [ l ] urdu [ la ] listen second largest city pakistan karachi th largest world population million situated north east country river ravi flowing north west city capital province punjab largest city lahore one pakistan major industrial economic hubs historic capital cultural centre wider punjab region one pakistan socially liberal progressive cosmopolitan cities lahore origins reach antiquity city inhabited least two millennia although rose prominence th century lahore capital multiple empires throughout history including hindu shahis ghaznavids delhi sultanate medieval era lahore reached height splendor mughal empire late th early th century served capital city many years period one largest cities medieval world city captured forces afsharid ruler nader shah although mughal authority established fell period decay contested among afghans sikhs lahore eventually became capital sikh empire early th century regaining lost grandeur lahore annexed british raj became capital british punjab lahore central independence movements india pakistan city site declaration indian independence resolution calling establishment pakistan experienced worst riotings partition period preceding pakistan independence following success pakistan movement subsequent partition british india lahore declared capital pakistan punjab province lahore exerts strong cultural influence pakistan unesco city literature major center pakistan publishing industry lahore remains foremost center pakistan literary scene city also major centre education pakistan pakistan leading universities based city many years lahore home pakistan film industry lollywood though recent years filming shifted karachi lahore major centre qawwali music city also hosts much pakistan tourist industry major attractions including walled city famous badshahi wazir khan mosques well several sikh sufi shrines lahore also home lahore fort shalimar gardens unesco world heritage sites\n"
     ]
    }
   ],
   "source": [
    "words = [word for word in tokenized_text if word.lower() not in sw_nltk]\n",
    "new_text = \" \".join(words)\n",
    "print(new_text)"
   ]
  },
  {
   "cell_type": "code",
   "execution_count": 36,
   "metadata": {},
   "outputs": [
    {
     "name": "stderr",
     "output_type": "stream",
     "text": [
      "[nltk_data] Downloading package wordnet to\n",
      "[nltk_data]     C:\\Users\\lab1\\AppData\\Roaming\\nltk_data...\n",
      "[nltk_data]   Package wordnet is already up-to-date!\n"
     ]
    }
   ],
   "source": [
    "nltk.download('wordnet')\n",
    "from nltk.stem import WordNetLemmatizer"
   ]
  },
  {
   "cell_type": "code",
   "execution_count": 41,
   "metadata": {},
   "outputs": [
    {
     "name": "stdout",
     "output_type": "stream",
     "text": [
      "lahore l hor punjabi [ l ] urdu [ la ] listen second largest city pakistan karachi th largest world population million situated north east country river ravi flowing north west city capital province punjab largest city lahore one pakistan major industrial economic hubs historic capital cultural centre wider punjab region one pakistan socially liberal progressive cosmopolitan cities lahore origins reach antiquity city inhabited least two millennia although rose prominence th century lahore capital multiple empires throughout history including hindu shahis ghaznavids delhi sultanate medieval era lahore reached height splendor mughal empire late th early th century served capital city many years period one largest cities medieval world city captured forces afsharid ruler nader shah although mughal authority established fell period decay contested among afghans sikhs lahore eventually became capital sikh empire early th century regaining lost grandeur lahore annexed british raj became capital british punjab lahore central independence movements india pakistan city site declaration indian independence resolution calling establishment pakistan experienced worst riotings partition period preceding pakistan independence following success pakistan movement subsequent partition british india lahore declared capital pakistan punjab province lahore exerts strong cultural influence pakistan unesco city literature major center pakistan publishing industry lahore remains foremost center pakistan literary scene city also major centre education pakistan pakistan leading universities based city many years lahore home pakistan film industry lollywood though recent years filming shifted karachi lahore major centre qawwali music city also hosts much pakistan tourist industry major attractions including walled city famous badshahi wazir khan mosques well several sikh sufi shrines lahore also home lahore fort shalimar gardens unesco world heritage sites\n"
     ]
    }
   ],
   "source": [
    "lemmatizer = WordNetLemmatizer()\n",
    "lemmatize_token = (lemmatizer.lemmatize(token) for token in new_text)\n",
    "lemmatize_text = ''.join(lemmatize_token)\n",
    "print(lemmatize_text)"
   ]
  },
  {
   "cell_type": "code",
   "execution_count": 44,
   "metadata": {},
   "outputs": [
    {
     "data": {
      "image/png": "[encoded data removed]",
      "text/plain": [
       "<Figure size 432x288 with 1 Axes>"
      ]
     },
     "metadata": {
      "needs_background": "light"
     },
     "output_type": "display_data"
    },
    {
     "data": {
      "text/plain": [
       "<AxesSubplot:xlabel='Samples', ylabel='Counts'>"
      ]
     },
     "execution_count": 44,
     "metadata": {},
     "output_type": "execute_result"
    }
   ],
   "source": [
    "from nltk.probability import FreqDist\n",
    "\n",
    "tokens = nltk.tokenize.word_tokenize(lemmatize_text)\n",
    "fdist = FreqDist(tokens)\n",
    "fdist.plot(25, cumulative = False)"
   ]
  },
  {
   "cell_type": "code",
   "execution_count": null,
   "metadata": {},
   "outputs": [],
   "source": []
  }
 ],
 "metadata": {
  "kernelspec": {
   "display_name": "Python 3 (ipykernel)",
   "language": "python",
   "name": "python3"
  },
  "language_info": {
   "codemirror_mode": {
    "name": "ipython",
    "version": 3
   },
   "file_extension": ".py",
   "mimetype": "text/x-python",
   "name": "python",
   "nbconvert_exporter": "python",
   "pygments_lexer": "ipython3",
   "version": "3.10.9"
  }
 },
 "nbformat": 4,
 "nbformat_minor": 4
}
