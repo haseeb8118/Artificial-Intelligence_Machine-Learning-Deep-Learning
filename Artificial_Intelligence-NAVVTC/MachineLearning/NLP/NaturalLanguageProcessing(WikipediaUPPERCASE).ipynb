{
 "cells": [
  {
   "cell_type": "code",
   "execution_count": 1,
   "metadata": {
    "id": "Op-aQArKQpr4"
   },
   "outputs": [],
   "source": [
    "import re"
   ]
  },
  {
   "cell_type": "code",
   "execution_count": 2,
   "metadata": {
    "colab": {
     "base_uri": "https://localhost:8080/"
    },
    "id": "0SGcg0n5Qx6q",
    "outputId": "ce6848af-2ddd-4f49-a0eb-109dea37ac2a"
   },
   "outputs": [
    {
     "name": "stdout",
     "output_type": "stream",
     "text": [
      "Collecting wikipedia\n",
      "  Downloading wikipedia-1.4.0.tar.gz (27 kB)\n",
      "  Preparing metadata (setup.py) ... \u001b[?25l\u001b[?25hdone\n",
      "Requirement already satisfied: beautifulsoup4 in /usr/local/lib/python3.10/dist-packages (from wikipedia) (4.11.2)\n",
      "Requirement already satisfied: requests<3.0.0,>=2.0.0 in /usr/local/lib/python3.10/dist-packages (from wikipedia) (2.27.1)\n",
      "Requirement already satisfied: urllib3<1.27,>=1.21.1 in /usr/local/lib/python3.10/dist-packages (from requests<3.0.0,>=2.0.0->wikipedia) (1.26.16)\n",
      "Requirement already satisfied: certifi>=2017.4.17 in /usr/local/lib/python3.10/dist-packages (from requests<3.0.0,>=2.0.0->wikipedia) (2023.5.7)\n",
      "Requirement already satisfied: charset-normalizer~=2.0.0 in /usr/local/lib/python3.10/dist-packages (from requests<3.0.0,>=2.0.0->wikipedia) (2.0.12)\n",
      "Requirement already satisfied: idna<4,>=2.5 in /usr/local/lib/python3.10/dist-packages (from requests<3.0.0,>=2.0.0->wikipedia) (3.4)\n",
      "Requirement already satisfied: soupsieve>1.2 in /usr/local/lib/python3.10/dist-packages (from beautifulsoup4->wikipedia) (2.4.1)\n",
      "Building wheels for collected packages: wikipedia\n",
      "  Building wheel for wikipedia (setup.py) ... \u001b[?25l\u001b[?25hdone\n",
      "  Created wheel for wikipedia: filename=wikipedia-1.4.0-py3-none-any.whl size=11680 sha256=ea494710fb2bcafbf82e4e019639469716db7a5644bec7e1da5ebc24c090fd7e\n",
      "  Stored in directory: /root/.cache/pip/wheels/5e/b6/c5/93f3dec388ae76edc830cb42901bb0232504dfc0df02fc50de\n",
      "Successfully built wikipedia\n",
      "Installing collected packages: wikipedia\n",
      "Successfully installed wikipedia-1.4.0\n"
     ]
    }
   ],
   "source": [
    "pip install wikipedia"
   ]
  },
  {
   "cell_type": "code",
   "execution_count": 3,
   "metadata": {
    "id": "DvLxXbsCTBGG"
   },
   "outputs": [],
   "source": [
    "import wikipedia\n",
    "Pakistan = wikipedia.summary(\"Pakistan\")"
   ]
  },
  {
   "cell_type": "code",
   "execution_count": 4,
   "metadata": {
    "colab": {
     "base_uri": "https://localhost:8080/"
    },
    "id": "KZC0ildwU0lB",
    "outputId": "f74e39f8-18e5-42a8-b0a3-ac9e6dc51383"
   },
   "outputs": [
    {
     "name": "stdout",
     "output_type": "stream",
     "text": [
      "Pakistan (Urdu: پَاکِسْتَان [ˈpaːkɪstaːn]), officially the Islamic Republic of Pakistan (ISO: اِسْلامی\n",
      "جَمْہُورِیَہ پَاکِسْتَان, islāmi jamhūriyāh pākistān), is a country in South Asia. It is the world's fifth-most populous country, with a population of over 249 million people, and has the world's second-largest Muslim population, just behind Indonesia. Islamabad is the nation's capital, while Karachi is its largest city and financial centre, followed by Lahore and Faisalabad. Pakistan is the 33rd-largest country in the world by area and the second-largest in South Asia, spanning 881,913 square kilometres (340,509 square miles). It has a 1,046-kilometre (650-mile) coastline along the Arabian Sea and Gulf of Oman in the south, and is bordered by India to the east, Afghanistan to the west, Iran to the southwest, and China to the northeast. It is separated narrowly from Tajikistan by Afghanistan's Wakhan Corridor in the north, and also shares a maritime border with Oman.\n",
      "Pakistan is the site of several ancient cultures, including the 8,500-year-old Neolithic site of Mehrgarh in Balochistan, the Indus Valley civilisation of the Bronze Age, and the ancient Gandhara civilisation. The regions that comprise the modern state of Pakistan were the realm of multiple empires and dynasties, including the Achaemenid, the Maurya, the Kushan, the Gupta; the Umayyad Caliphate in its southern regions, the Samma, the Hindu Shahis, the Shah Miris, the Ghaznavids, the Delhi Sultanate, the Mughals, and most recently, the British Raj from 1858 to 1947.\n",
      "Spurred by the Pakistan Movement, which sought a homeland for the Muslims of British India, and election victories in 1946 by the All-India Muslim League, Pakistan gained independence in 1947 after the Partition of the British Indian Empire, which awarded separate statehood to its Muslim-majority regions and was accompanied by an unparalleled mass migration and loss of life. Initially a Dominion of the British Commonwealth, Pakistan officially drafted its constitution in 1956, and emerged as a declared Islamic republic. In 1971, the exclave of East Pakistan seceded as the new country of Bangladesh after a nine-month-long civil war. In the following four decades, Pakistan has been ruled by governments whose descriptions, although complex, commonly alternated between civilian and military, democratic and authoritarian, relatively secular and Islamist. Pakistan elected a civilian government in 2008, and in 2010 adopted a parliamentary system with periodic elections.Pakistan is a middle power nation, and has the world's sixth-largest standing armed forces. It is a declared nuclear-weapons state, and is ranked amongst the emerging and growth-leading economies, with a large and rapidly-growing middle class. Pakistan's political history since independence has been characterised by periods of significant economic and military growth as well as those of political and economic instability. It is an ethnically and linguistically diverse country, with similarly diverse geography and wildlife. The country continues to face challenges, including poverty, illiteracy, corruption and terrorism. Pakistan is a member of the United Nations, the Shanghai Cooperation Organisation, the Organisation of Islamic Cooperation, the Commonwealth of Nations, the South Asian Association for Regional Cooperation, and the Islamic Military Counter-Terrorism Coalition, and is designated as a major non-NATO ally by the United States.\n"
     ]
    }
   ],
   "source": [
    "print(Pakistan)"
   ]
  },
  {
   "cell_type": "code",
   "execution_count": 5,
   "metadata": {
    "id": "kCSTFkr7U3Pa"
   },
   "outputs": [],
   "source": [
    "upper_Pakistan = Pakistan.upper()"
   ]
  },
  {
   "cell_type": "code",
   "execution_count": 6,
   "metadata": {
    "colab": {
     "base_uri": "https://localhost:8080/"
    },
    "id": "YgfKP75-VToK",
    "outputId": "7f7d8d8b-a0d9-4f60-e046-0d6aeaf8851a"
   },
   "outputs": [
    {
     "name": "stdout",
     "output_type": "stream",
     "text": [
      "PAKISTAN (URDU: پَاکِسْتَان [ˈPAːKꞮSTAːN]), OFFICIALLY THE ISLAMIC REPUBLIC OF PAKISTAN (ISO: اِسْلامی\n",
      "جَمْہُورِیَہ پَاکِسْتَان, ISLĀMI JAMHŪRIYĀH PĀKISTĀN), IS A COUNTRY IN SOUTH ASIA. IT IS THE WORLD'S FIFTH-MOST POPULOUS COUNTRY, WITH A POPULATION OF OVER 249 MILLION PEOPLE, AND HAS THE WORLD'S SECOND-LARGEST MUSLIM POPULATION, JUST BEHIND INDONESIA. ISLAMABAD IS THE NATION'S CAPITAL, WHILE KARACHI IS ITS LARGEST CITY AND FINANCIAL CENTRE, FOLLOWED BY LAHORE AND FAISALABAD. PAKISTAN IS THE 33RD-LARGEST COUNTRY IN THE WORLD BY AREA AND THE SECOND-LARGEST IN SOUTH ASIA, SPANNING 881,913 SQUARE KILOMETRES (340,509 SQUARE MILES). IT HAS A 1,046-KILOMETRE (650-MILE) COASTLINE ALONG THE ARABIAN SEA AND GULF OF OMAN IN THE SOUTH, AND IS BORDERED BY INDIA TO THE EAST, AFGHANISTAN TO THE WEST, IRAN TO THE SOUTHWEST, AND CHINA TO THE NORTHEAST. IT IS SEPARATED NARROWLY FROM TAJIKISTAN BY AFGHANISTAN'S WAKHAN CORRIDOR IN THE NORTH, AND ALSO SHARES A MARITIME BORDER WITH OMAN.\n",
      "PAKISTAN IS THE SITE OF SEVERAL ANCIENT CULTURES, INCLUDING THE 8,500-YEAR-OLD NEOLITHIC SITE OF MEHRGARH IN BALOCHISTAN, THE INDUS VALLEY CIVILISATION OF THE BRONZE AGE, AND THE ANCIENT GANDHARA CIVILISATION. THE REGIONS THAT COMPRISE THE MODERN STATE OF PAKISTAN WERE THE REALM OF MULTIPLE EMPIRES AND DYNASTIES, INCLUDING THE ACHAEMENID, THE MAURYA, THE KUSHAN, THE GUPTA; THE UMAYYAD CALIPHATE IN ITS SOUTHERN REGIONS, THE SAMMA, THE HINDU SHAHIS, THE SHAH MIRIS, THE GHAZNAVIDS, THE DELHI SULTANATE, THE MUGHALS, AND MOST RECENTLY, THE BRITISH RAJ FROM 1858 TO 1947.\n",
      "SPURRED BY THE PAKISTAN MOVEMENT, WHICH SOUGHT A HOMELAND FOR THE MUSLIMS OF BRITISH INDIA, AND ELECTION VICTORIES IN 1946 BY THE ALL-INDIA MUSLIM LEAGUE, PAKISTAN GAINED INDEPENDENCE IN 1947 AFTER THE PARTITION OF THE BRITISH INDIAN EMPIRE, WHICH AWARDED SEPARATE STATEHOOD TO ITS MUSLIM-MAJORITY REGIONS AND WAS ACCOMPANIED BY AN UNPARALLELED MASS MIGRATION AND LOSS OF LIFE. INITIALLY A DOMINION OF THE BRITISH COMMONWEALTH, PAKISTAN OFFICIALLY DRAFTED ITS CONSTITUTION IN 1956, AND EMERGED AS A DECLARED ISLAMIC REPUBLIC. IN 1971, THE EXCLAVE OF EAST PAKISTAN SECEDED AS THE NEW COUNTRY OF BANGLADESH AFTER A NINE-MONTH-LONG CIVIL WAR. IN THE FOLLOWING FOUR DECADES, PAKISTAN HAS BEEN RULED BY GOVERNMENTS WHOSE DESCRIPTIONS, ALTHOUGH COMPLEX, COMMONLY ALTERNATED BETWEEN CIVILIAN AND MILITARY, DEMOCRATIC AND AUTHORITARIAN, RELATIVELY SECULAR AND ISLAMIST. PAKISTAN ELECTED A CIVILIAN GOVERNMENT IN 2008, AND IN 2010 ADOPTED A PARLIAMENTARY SYSTEM WITH PERIODIC ELECTIONS.PAKISTAN IS A MIDDLE POWER NATION, AND HAS THE WORLD'S SIXTH-LARGEST STANDING ARMED FORCES. IT IS A DECLARED NUCLEAR-WEAPONS STATE, AND IS RANKED AMONGST THE EMERGING AND GROWTH-LEADING ECONOMIES, WITH A LARGE AND RAPIDLY-GROWING MIDDLE CLASS. PAKISTAN'S POLITICAL HISTORY SINCE INDEPENDENCE HAS BEEN CHARACTERISED BY PERIODS OF SIGNIFICANT ECONOMIC AND MILITARY GROWTH AS WELL AS THOSE OF POLITICAL AND ECONOMIC INSTABILITY. IT IS AN ETHNICALLY AND LINGUISTICALLY DIVERSE COUNTRY, WITH SIMILARLY DIVERSE GEOGRAPHY AND WILDLIFE. THE COUNTRY CONTINUES TO FACE CHALLENGES, INCLUDING POVERTY, ILLITERACY, CORRUPTION AND TERRORISM. PAKISTAN IS A MEMBER OF THE UNITED NATIONS, THE SHANGHAI COOPERATION ORGANISATION, THE ORGANISATION OF ISLAMIC COOPERATION, THE COMMONWEALTH OF NATIONS, THE SOUTH ASIAN ASSOCIATION FOR REGIONAL COOPERATION, AND THE ISLAMIC MILITARY COUNTER-TERRORISM COALITION, AND IS DESIGNATED AS A MAJOR NON-NATO ALLY BY THE UNITED STATES.\n"
     ]
    }
   ],
   "source": [
    "print(upper_Pakistan)"
   ]
  },
  {
   "cell_type": "code",
   "execution_count": 7,
   "metadata": {
    "id": "VcSWLFMbVhUF"
   },
   "outputs": [],
   "source": [
    "#Cleaning Data Select Words Only"
   ]
  },
  {
   "cell_type": "code",
   "execution_count": 9,
   "metadata": {
    "id": "XKzbzKbQVxtU"
   },
   "outputs": [],
   "source": [
    "words = re.findall(r'[A-Z]+',upper_Pakistan)\n",
    "cleaned_Pakistan = \" \".join(words)"
   ]
  },
  {
   "cell_type": "code",
   "execution_count": 10,
   "metadata": {
    "colab": {
     "base_uri": "https://localhost:8080/"
    },
    "id": "RgHvj8DVZUX9",
    "outputId": "ed03167b-fea9-4097-e9f4-a55670803171"
   },
   "outputs": [
    {
     "name": "stdout",
     "output_type": "stream",
     "text": [
      "PAKISTAN URDU PA K STA N OFFICIALLY THE ISLAMIC REPUBLIC OF PAKISTAN ISO ISL MI JAMH RIY H P KIST N IS A COUNTRY IN SOUTH ASIA IT IS THE WORLD S FIFTH MOST POPULOUS COUNTRY WITH A POPULATION OF OVER MILLION PEOPLE AND HAS THE WORLD S SECOND LARGEST MUSLIM POPULATION JUST BEHIND INDONESIA ISLAMABAD IS THE NATION S CAPITAL WHILE KARACHI IS ITS LARGEST CITY AND FINANCIAL CENTRE FOLLOWED BY LAHORE AND FAISALABAD PAKISTAN IS THE RD LARGEST COUNTRY IN THE WORLD BY AREA AND THE SECOND LARGEST IN SOUTH ASIA SPANNING SQUARE KILOMETRES SQUARE MILES IT HAS A KILOMETRE MILE COASTLINE ALONG THE ARABIAN SEA AND GULF OF OMAN IN THE SOUTH AND IS BORDERED BY INDIA TO THE EAST AFGHANISTAN TO THE WEST IRAN TO THE SOUTHWEST AND CHINA TO THE NORTHEAST IT IS SEPARATED NARROWLY FROM TAJIKISTAN BY AFGHANISTAN S WAKHAN CORRIDOR IN THE NORTH AND ALSO SHARES A MARITIME BORDER WITH OMAN PAKISTAN IS THE SITE OF SEVERAL ANCIENT CULTURES INCLUDING THE YEAR OLD NEOLITHIC SITE OF MEHRGARH IN BALOCHISTAN THE INDUS VALLEY CIVILISATION OF THE BRONZE AGE AND THE ANCIENT GANDHARA CIVILISATION THE REGIONS THAT COMPRISE THE MODERN STATE OF PAKISTAN WERE THE REALM OF MULTIPLE EMPIRES AND DYNASTIES INCLUDING THE ACHAEMENID THE MAURYA THE KUSHAN THE GUPTA THE UMAYYAD CALIPHATE IN ITS SOUTHERN REGIONS THE SAMMA THE HINDU SHAHIS THE SHAH MIRIS THE GHAZNAVIDS THE DELHI SULTANATE THE MUGHALS AND MOST RECENTLY THE BRITISH RAJ FROM TO SPURRED BY THE PAKISTAN MOVEMENT WHICH SOUGHT A HOMELAND FOR THE MUSLIMS OF BRITISH INDIA AND ELECTION VICTORIES IN BY THE ALL INDIA MUSLIM LEAGUE PAKISTAN GAINED INDEPENDENCE IN AFTER THE PARTITION OF THE BRITISH INDIAN EMPIRE WHICH AWARDED SEPARATE STATEHOOD TO ITS MUSLIM MAJORITY REGIONS AND WAS ACCOMPANIED BY AN UNPARALLELED MASS MIGRATION AND LOSS OF LIFE INITIALLY A DOMINION OF THE BRITISH COMMONWEALTH PAKISTAN OFFICIALLY DRAFTED ITS CONSTITUTION IN AND EMERGED AS A DECLARED ISLAMIC REPUBLIC IN THE EXCLAVE OF EAST PAKISTAN SECEDED AS THE NEW COUNTRY OF BANGLADESH AFTER A NINE MONTH LONG CIVIL WAR IN THE FOLLOWING FOUR DECADES PAKISTAN HAS BEEN RULED BY GOVERNMENTS WHOSE DESCRIPTIONS ALTHOUGH COMPLEX COMMONLY ALTERNATED BETWEEN CIVILIAN AND MILITARY DEMOCRATIC AND AUTHORITARIAN RELATIVELY SECULAR AND ISLAMIST PAKISTAN ELECTED A CIVILIAN GOVERNMENT IN AND IN ADOPTED A PARLIAMENTARY SYSTEM WITH PERIODIC ELECTIONS PAKISTAN IS A MIDDLE POWER NATION AND HAS THE WORLD S SIXTH LARGEST STANDING ARMED FORCES IT IS A DECLARED NUCLEAR WEAPONS STATE AND IS RANKED AMONGST THE EMERGING AND GROWTH LEADING ECONOMIES WITH A LARGE AND RAPIDLY GROWING MIDDLE CLASS PAKISTAN S POLITICAL HISTORY SINCE INDEPENDENCE HAS BEEN CHARACTERISED BY PERIODS OF SIGNIFICANT ECONOMIC AND MILITARY GROWTH AS WELL AS THOSE OF POLITICAL AND ECONOMIC INSTABILITY IT IS AN ETHNICALLY AND LINGUISTICALLY DIVERSE COUNTRY WITH SIMILARLY DIVERSE GEOGRAPHY AND WILDLIFE THE COUNTRY CONTINUES TO FACE CHALLENGES INCLUDING POVERTY ILLITERACY CORRUPTION AND TERRORISM PAKISTAN IS A MEMBER OF THE UNITED NATIONS THE SHANGHAI COOPERATION ORGANISATION THE ORGANISATION OF ISLAMIC COOPERATION THE COMMONWEALTH OF NATIONS THE SOUTH ASIAN ASSOCIATION FOR REGIONAL COOPERATION AND THE ISLAMIC MILITARY COUNTER TERRORISM COALITION AND IS DESIGNATED AS A MAJOR NON NATO ALLY BY THE UNITED STATES\n"
     ]
    }
   ],
   "source": [
    "print(cleaned_Pakistan)"
   ]
  },
  {
   "cell_type": "code",
   "execution_count": 11,
   "metadata": {
    "id": "qVpTKzZYaaNA"
   },
   "outputs": [],
   "source": [
    "import nltk\n",
    "from nltk.tokenize import word_tokenize"
   ]
  },
  {
   "cell_type": "code",
   "execution_count": 12,
   "metadata": {
    "colab": {
     "base_uri": "https://localhost:8080/"
    },
    "id": "sM6omHzHa53d",
    "outputId": "b4bce49c-49bb-4087-f251-0eaab08cb50d"
   },
   "outputs": [
    {
     "name": "stderr",
     "output_type": "stream",
     "text": [
      "[nltk_data] Downloading package punkt to /root/nltk_data...\n",
      "[nltk_data]   Unzipping tokenizers/punkt.zip.\n"
     ]
    },
    {
     "data": {
      "text/plain": [
       "True"
      ]
     },
     "execution_count": 12,
     "metadata": {},
     "output_type": "execute_result"
    }
   ],
   "source": [
    "nltk.download('punkt')"
   ]
  },
  {
   "cell_type": "code",
   "execution_count": 13,
   "metadata": {
    "id": "dc1YfAj6bWRV"
   },
   "outputs": [],
   "source": [
    "tokenized_Pakistan = word_tokenize(cleaned_Pakistan)"
   ]
  },
  {
   "cell_type": "code",
   "execution_count": 14,
   "metadata": {
    "colab": {
     "base_uri": "https://localhost:8080/"
    },
    "id": "ZprAtbUIepeJ",
    "outputId": "cfcd8f0b-10cc-404a-fde4-2589e5f810e0"
   },
   "outputs": [
    {
     "name": "stdout",
     "output_type": "stream",
     "text": [
      "['PAKISTAN', 'URDU', 'PA', 'K', 'STA', 'N', 'OFFICIALLY', 'THE', 'ISLAMIC', 'REPUBLIC', 'OF', 'PAKISTAN', 'ISO', 'ISL', 'MI', 'JAMH', 'RIY', 'H', 'P', 'KIST', 'N', 'IS', 'A', 'COUNTRY', 'IN', 'SOUTH', 'ASIA', 'IT', 'IS', 'THE', 'WORLD', 'S', 'FIFTH', 'MOST', 'POPULOUS', 'COUNTRY', 'WITH', 'A', 'POPULATION', 'OF', 'OVER', 'MILLION', 'PEOPLE', 'AND', 'HAS', 'THE', 'WORLD', 'S', 'SECOND', 'LARGEST', 'MUSLIM', 'POPULATION', 'JUST', 'BEHIND', 'INDONESIA', 'ISLAMABAD', 'IS', 'THE', 'NATION', 'S', 'CAPITAL', 'WHILE', 'KARACHI', 'IS', 'ITS', 'LARGEST', 'CITY', 'AND', 'FINANCIAL', 'CENTRE', 'FOLLOWED', 'BY', 'LAHORE', 'AND', 'FAISALABAD', 'PAKISTAN', 'IS', 'THE', 'RD', 'LARGEST', 'COUNTRY', 'IN', 'THE', 'WORLD', 'BY', 'AREA', 'AND', 'THE', 'SECOND', 'LARGEST', 'IN', 'SOUTH', 'ASIA', 'SPANNING', 'SQUARE', 'KILOMETRES', 'SQUARE', 'MILES', 'IT', 'HAS', 'A', 'KILOMETRE', 'MILE', 'COASTLINE', 'ALONG', 'THE', 'ARABIAN', 'SEA', 'AND', 'GULF', 'OF', 'OMAN', 'IN', 'THE', 'SOUTH', 'AND', 'IS', 'BORDERED', 'BY', 'INDIA', 'TO', 'THE', 'EAST', 'AFGHANISTAN', 'TO', 'THE', 'WEST', 'IRAN', 'TO', 'THE', 'SOUTHWEST', 'AND', 'CHINA', 'TO', 'THE', 'NORTHEAST', 'IT', 'IS', 'SEPARATED', 'NARROWLY', 'FROM', 'TAJIKISTAN', 'BY', 'AFGHANISTAN', 'S', 'WAKHAN', 'CORRIDOR', 'IN', 'THE', 'NORTH', 'AND', 'ALSO', 'SHARES', 'A', 'MARITIME', 'BORDER', 'WITH', 'OMAN', 'PAKISTAN', 'IS', 'THE', 'SITE', 'OF', 'SEVERAL', 'ANCIENT', 'CULTURES', 'INCLUDING', 'THE', 'YEAR', 'OLD', 'NEOLITHIC', 'SITE', 'OF', 'MEHRGARH', 'IN', 'BALOCHISTAN', 'THE', 'INDUS', 'VALLEY', 'CIVILISATION', 'OF', 'THE', 'BRONZE', 'AGE', 'AND', 'THE', 'ANCIENT', 'GANDHARA', 'CIVILISATION', 'THE', 'REGIONS', 'THAT', 'COMPRISE', 'THE', 'MODERN', 'STATE', 'OF', 'PAKISTAN', 'WERE', 'THE', 'REALM', 'OF', 'MULTIPLE', 'EMPIRES', 'AND', 'DYNASTIES', 'INCLUDING', 'THE', 'ACHAEMENID', 'THE', 'MAURYA', 'THE', 'KUSHAN', 'THE', 'GUPTA', 'THE', 'UMAYYAD', 'CALIPHATE', 'IN', 'ITS', 'SOUTHERN', 'REGIONS', 'THE', 'SAMMA', 'THE', 'HINDU', 'SHAHIS', 'THE', 'SHAH', 'MIRIS', 'THE', 'GHAZNAVIDS', 'THE', 'DELHI', 'SULTANATE', 'THE', 'MUGHALS', 'AND', 'MOST', 'RECENTLY', 'THE', 'BRITISH', 'RAJ', 'FROM', 'TO', 'SPURRED', 'BY', 'THE', 'PAKISTAN', 'MOVEMENT', 'WHICH', 'SOUGHT', 'A', 'HOMELAND', 'FOR', 'THE', 'MUSLIMS', 'OF', 'BRITISH', 'INDIA', 'AND', 'ELECTION', 'VICTORIES', 'IN', 'BY', 'THE', 'ALL', 'INDIA', 'MUSLIM', 'LEAGUE', 'PAKISTAN', 'GAINED', 'INDEPENDENCE', 'IN', 'AFTER', 'THE', 'PARTITION', 'OF', 'THE', 'BRITISH', 'INDIAN', 'EMPIRE', 'WHICH', 'AWARDED', 'SEPARATE', 'STATEHOOD', 'TO', 'ITS', 'MUSLIM', 'MAJORITY', 'REGIONS', 'AND', 'WAS', 'ACCOMPANIED', 'BY', 'AN', 'UNPARALLELED', 'MASS', 'MIGRATION', 'AND', 'LOSS', 'OF', 'LIFE', 'INITIALLY', 'A', 'DOMINION', 'OF', 'THE', 'BRITISH', 'COMMONWEALTH', 'PAKISTAN', 'OFFICIALLY', 'DRAFTED', 'ITS', 'CONSTITUTION', 'IN', 'AND', 'EMERGED', 'AS', 'A', 'DECLARED', 'ISLAMIC', 'REPUBLIC', 'IN', 'THE', 'EXCLAVE', 'OF', 'EAST', 'PAKISTAN', 'SECEDED', 'AS', 'THE', 'NEW', 'COUNTRY', 'OF', 'BANGLADESH', 'AFTER', 'A', 'NINE', 'MONTH', 'LONG', 'CIVIL', 'WAR', 'IN', 'THE', 'FOLLOWING', 'FOUR', 'DECADES', 'PAKISTAN', 'HAS', 'BEEN', 'RULED', 'BY', 'GOVERNMENTS', 'WHOSE', 'DESCRIPTIONS', 'ALTHOUGH', 'COMPLEX', 'COMMONLY', 'ALTERNATED', 'BETWEEN', 'CIVILIAN', 'AND', 'MILITARY', 'DEMOCRATIC', 'AND', 'AUTHORITARIAN', 'RELATIVELY', 'SECULAR', 'AND', 'ISLAMIST', 'PAKISTAN', 'ELECTED', 'A', 'CIVILIAN', 'GOVERNMENT', 'IN', 'AND', 'IN', 'ADOPTED', 'A', 'PARLIAMENTARY', 'SYSTEM', 'WITH', 'PERIODIC', 'ELECTIONS', 'PAKISTAN', 'IS', 'A', 'MIDDLE', 'POWER', 'NATION', 'AND', 'HAS', 'THE', 'WORLD', 'S', 'SIXTH', 'LARGEST', 'STANDING', 'ARMED', 'FORCES', 'IT', 'IS', 'A', 'DECLARED', 'NUCLEAR', 'WEAPONS', 'STATE', 'AND', 'IS', 'RANKED', 'AMONGST', 'THE', 'EMERGING', 'AND', 'GROWTH', 'LEADING', 'ECONOMIES', 'WITH', 'A', 'LARGE', 'AND', 'RAPIDLY', 'GROWING', 'MIDDLE', 'CLASS', 'PAKISTAN', 'S', 'POLITICAL', 'HISTORY', 'SINCE', 'INDEPENDENCE', 'HAS', 'BEEN', 'CHARACTERISED', 'BY', 'PERIODS', 'OF', 'SIGNIFICANT', 'ECONOMIC', 'AND', 'MILITARY', 'GROWTH', 'AS', 'WELL', 'AS', 'THOSE', 'OF', 'POLITICAL', 'AND', 'ECONOMIC', 'INSTABILITY', 'IT', 'IS', 'AN', 'ETHNICALLY', 'AND', 'LINGUISTICALLY', 'DIVERSE', 'COUNTRY', 'WITH', 'SIMILARLY', 'DIVERSE', 'GEOGRAPHY', 'AND', 'WILDLIFE', 'THE', 'COUNTRY', 'CONTINUES', 'TO', 'FACE', 'CHALLENGES', 'INCLUDING', 'POVERTY', 'ILLITERACY', 'CORRUPTION', 'AND', 'TERRORISM', 'PAKISTAN', 'IS', 'A', 'MEMBER', 'OF', 'THE', 'UNITED', 'NATIONS', 'THE', 'SHANGHAI', 'COOPERATION', 'ORGANISATION', 'THE', 'ORGANISATION', 'OF', 'ISLAMIC', 'COOPERATION', 'THE', 'COMMONWEALTH', 'OF', 'NATIONS', 'THE', 'SOUTH', 'ASIAN', 'ASSOCIATION', 'FOR', 'REGIONAL', 'COOPERATION', 'AND', 'THE', 'ISLAMIC', 'MILITARY', 'COUNTER', 'TERRORISM', 'COALITION', 'AND', 'IS', 'DESIGNATED', 'AS', 'A', 'MAJOR', 'NON', 'NATO', 'ALLY', 'BY', 'THE', 'UNITED', 'STATES']\n"
     ]
    }
   ],
   "source": [
    "print(tokenized_Pakistan)"
   ]
  },
  {
   "cell_type": "code",
   "execution_count": 15,
   "metadata": {
    "id": "KpAD4nOhewDp"
   },
   "outputs": [],
   "source": [
    "#STOP WORDS REMOVAL"
   ]
  },
  {
   "cell_type": "code",
   "execution_count": 16,
   "metadata": {
    "colab": {
     "base_uri": "https://localhost:8080/"
    },
    "id": "NX7DeKf5fByo",
    "outputId": "19a053dc-95dc-469c-a815-05e93e2e76e2"
   },
   "outputs": [
    {
     "name": "stdout",
     "output_type": "stream",
     "text": [
      "['i', 'me', 'my', 'myself', 'we', 'our', 'ours', 'ourselves', 'you', \"you're\", \"you've\", \"you'll\", \"you'd\", 'your', 'yours', 'yourself', 'yourselves', 'he', 'him', 'his', 'himself', 'she', \"she's\", 'her', 'hers', 'herself', 'it', \"it's\", 'its', 'itself', 'they', 'them', 'their', 'theirs', 'themselves', 'what', 'which', 'who', 'whom', 'this', 'that', \"that'll\", 'these', 'those', 'am', 'is', 'are', 'was', 'were', 'be', 'been', 'being', 'have', 'has', 'had', 'having', 'do', 'does', 'did', 'doing', 'a', 'an', 'the', 'and', 'but', 'if', 'or', 'because', 'as', 'until', 'while', 'of', 'at', 'by', 'for', 'with', 'about', 'against', 'between', 'into', 'through', 'during', 'before', 'after', 'above', 'below', 'to', 'from', 'up', 'down', 'in', 'out', 'on', 'off', 'over', 'under', 'again', 'further', 'then', 'once', 'here', 'there', 'when', 'where', 'why', 'how', 'all', 'any', 'both', 'each', 'few', 'more', 'most', 'other', 'some', 'such', 'no', 'nor', 'not', 'only', 'own', 'same', 'so', 'than', 'too', 'very', 's', 't', 'can', 'will', 'just', 'don', \"don't\", 'should', \"should've\", 'now', 'd', 'll', 'm', 'o', 're', 've', 'y', 'ain', 'aren', \"aren't\", 'couldn', \"couldn't\", 'didn', \"didn't\", 'doesn', \"doesn't\", 'hadn', \"hadn't\", 'hasn', \"hasn't\", 'haven', \"haven't\", 'isn', \"isn't\", 'ma', 'mightn', \"mightn't\", 'mustn', \"mustn't\", 'needn', \"needn't\", 'shan', \"shan't\", 'shouldn', \"shouldn't\", 'wasn', \"wasn't\", 'weren', \"weren't\", 'won', \"won't\", 'wouldn', \"wouldn't\"]\n"
     ]
    },
    {
     "name": "stderr",
     "output_type": "stream",
     "text": [
      "[nltk_data] Downloading package stopwords to /root/nltk_data...\n",
      "[nltk_data]   Unzipping corpora/stopwords.zip.\n"
     ]
    }
   ],
   "source": [
    "nltk.download('stopwords')\n",
    "from nltk.corpus import stopwords\n",
    "sw_nltk = stopwords.words('english')\n",
    "print(sw_nltk)"
   ]
  },
  {
   "cell_type": "code",
   "execution_count": 17,
   "metadata": {
    "id": "mBDCkhH5frdn"
   },
   "outputs": [],
   "source": [
    "words = [word for word in tokenized_Pakistan\n",
    "if word.upper() not in sw_nltk]"
   ]
  },
  {
   "cell_type": "code",
   "execution_count": 18,
   "metadata": {
    "id": "EQcPal7vgOr4"
   },
   "outputs": [],
   "source": [
    "new_text = \" \".join(words)"
   ]
  },
  {
   "cell_type": "code",
   "execution_count": 19,
   "metadata": {
    "id": "y6uMfBntgyRg"
   },
   "outputs": [],
   "source": [
    "#LEMMATIZE"
   ]
  },
  {
   "cell_type": "code",
   "execution_count": 20,
   "metadata": {
    "colab": {
     "base_uri": "https://localhost:8080/"
    },
    "id": "j6-7nY-VhfeF",
    "outputId": "4f40f8ab-265e-4d45-f4a1-3d87c2dd13e4"
   },
   "outputs": [
    {
     "name": "stderr",
     "output_type": "stream",
     "text": [
      "[nltk_data] Downloading package wordnet to /root/nltk_data...\n"
     ]
    }
   ],
   "source": [
    "nltk.download('wordnet')\n",
    "from nltk.stem import WordNetLemmatizer"
   ]
  },
  {
   "cell_type": "code",
   "execution_count": 21,
   "metadata": {
    "colab": {
     "base_uri": "https://localhost:8080/"
    },
    "id": "_aRrKAp4iz9N",
    "outputId": "b3f70661-ad6c-4005-a9e0-7ba3fcb302b6"
   },
   "outputs": [
    {
     "name": "stdout",
     "output_type": "stream",
     "text": [
      "PAKISTAN URDU PA K STA N OFFICIALLY THE ISLAMIC REPUBLIC OF PAKISTAN ISO ISL MI JAMH RIY H P KIST N IS A COUNTRY IN SOUTH ASIA IT IS THE WORLD S FIFTH MOST POPULOUS COUNTRY WITH A POPULATION OF OVER MILLION PEOPLE AND HAS THE WORLD S SECOND LARGEST MUSLIM POPULATION JUST BEHIND INDONESIA ISLAMABAD IS THE NATION S CAPITAL WHILE KARACHI IS ITS LARGEST CITY AND FINANCIAL CENTRE FOLLOWED BY LAHORE AND FAISALABAD PAKISTAN IS THE RD LARGEST COUNTRY IN THE WORLD BY AREA AND THE SECOND LARGEST IN SOUTH ASIA SPANNING SQUARE KILOMETRES SQUARE MILES IT HAS A KILOMETRE MILE COASTLINE ALONG THE ARABIAN SEA AND GULF OF OMAN IN THE SOUTH AND IS BORDERED BY INDIA TO THE EAST AFGHANISTAN TO THE WEST IRAN TO THE SOUTHWEST AND CHINA TO THE NORTHEAST IT IS SEPARATED NARROWLY FROM TAJIKISTAN BY AFGHANISTAN S WAKHAN CORRIDOR IN THE NORTH AND ALSO SHARES A MARITIME BORDER WITH OMAN PAKISTAN IS THE SITE OF SEVERAL ANCIENT CULTURES INCLUDING THE YEAR OLD NEOLITHIC SITE OF MEHRGARH IN BALOCHISTAN THE INDUS VALLEY CIVILISATION OF THE BRONZE AGE AND THE ANCIENT GANDHARA CIVILISATION THE REGIONS THAT COMPRISE THE MODERN STATE OF PAKISTAN WERE THE REALM OF MULTIPLE EMPIRES AND DYNASTIES INCLUDING THE ACHAEMENID THE MAURYA THE KUSHAN THE GUPTA THE UMAYYAD CALIPHATE IN ITS SOUTHERN REGIONS THE SAMMA THE HINDU SHAHIS THE SHAH MIRIS THE GHAZNAVIDS THE DELHI SULTANATE THE MUGHALS AND MOST RECENTLY THE BRITISH RAJ FROM TO SPURRED BY THE PAKISTAN MOVEMENT WHICH SOUGHT A HOMELAND FOR THE MUSLIMS OF BRITISH INDIA AND ELECTION VICTORIES IN BY THE ALL INDIA MUSLIM LEAGUE PAKISTAN GAINED INDEPENDENCE IN AFTER THE PARTITION OF THE BRITISH INDIAN EMPIRE WHICH AWARDED SEPARATE STATEHOOD TO ITS MUSLIM MAJORITY REGIONS AND WAS ACCOMPANIED BY AN UNPARALLELED MASS MIGRATION AND LOSS OF LIFE INITIALLY A DOMINION OF THE BRITISH COMMONWEALTH PAKISTAN OFFICIALLY DRAFTED ITS CONSTITUTION IN AND EMERGED AS A DECLARED ISLAMIC REPUBLIC IN THE EXCLAVE OF EAST PAKISTAN SECEDED AS THE NEW COUNTRY OF BANGLADESH AFTER A NINE MONTH LONG CIVIL WAR IN THE FOLLOWING FOUR DECADES PAKISTAN HAS BEEN RULED BY GOVERNMENTS WHOSE DESCRIPTIONS ALTHOUGH COMPLEX COMMONLY ALTERNATED BETWEEN CIVILIAN AND MILITARY DEMOCRATIC AND AUTHORITARIAN RELATIVELY SECULAR AND ISLAMIST PAKISTAN ELECTED A CIVILIAN GOVERNMENT IN AND IN ADOPTED A PARLIAMENTARY SYSTEM WITH PERIODIC ELECTIONS PAKISTAN IS A MIDDLE POWER NATION AND HAS THE WORLD S SIXTH LARGEST STANDING ARMED FORCES IT IS A DECLARED NUCLEAR WEAPONS STATE AND IS RANKED AMONGST THE EMERGING AND GROWTH LEADING ECONOMIES WITH A LARGE AND RAPIDLY GROWING MIDDLE CLASS PAKISTAN S POLITICAL HISTORY SINCE INDEPENDENCE HAS BEEN CHARACTERISED BY PERIODS OF SIGNIFICANT ECONOMIC AND MILITARY GROWTH AS WELL AS THOSE OF POLITICAL AND ECONOMIC INSTABILITY IT IS AN ETHNICALLY AND LINGUISTICALLY DIVERSE COUNTRY WITH SIMILARLY DIVERSE GEOGRAPHY AND WILDLIFE THE COUNTRY CONTINUES TO FACE CHALLENGES INCLUDING POVERTY ILLITERACY CORRUPTION AND TERRORISM PAKISTAN IS A MEMBER OF THE UNITED NATIONS THE SHANGHAI COOPERATION ORGANISATION THE ORGANISATION OF ISLAMIC COOPERATION THE COMMONWEALTH OF NATIONS THE SOUTH ASIAN ASSOCIATION FOR REGIONAL COOPERATION AND THE ISLAMIC MILITARY COUNTER TERRORISM COALITION AND IS DESIGNATED AS A MAJOR NON NATO ALLY BY THE UNITED STATES\n"
     ]
    }
   ],
   "source": [
    "from pygments import token\n",
    "lemmatizer = WordNetLemmatizer()\n",
    "\n",
    "lemmatize_token = (lemmatizer.lemmatize(token) for token in new_text)\n",
    "lemmatize_text = ''. join(lemmatize_token)\n",
    "print(lemmatize_text)"
   ]
  },
  {
   "cell_type": "markdown",
   "metadata": {
    "id": "lqwuKmdukCTp"
   },
   "source": []
  },
  {
   "cell_type": "code",
   "execution_count": 22,
   "metadata": {
    "id": "d4CfyrANl4xz"
   },
   "outputs": [],
   "source": [
    "#FREQUENCY DISTRIBUTION"
   ]
  },
  {
   "cell_type": "code",
   "execution_count": 23,
   "metadata": {
    "colab": {
     "base_uri": "https://localhost:8080/",
     "height": 552
    },
    "id": "XzWBWEbsmB_k",
    "outputId": "21897a30-3c1e-4472-f2ea-4438d0dbfad4"
   },
   "outputs": [
    {
     "data": {
      "image/png": "[encoded data removed]",
      "text/plain": [
       "<Figure size 640x480 with 1 Axes>"
      ]
     },
     "metadata": {},
     "output_type": "display_data"
    },
    {
     "data": {
      "text/plain": [
       "<Axes: xlabel='Samples', ylabel='Counts'>"
      ]
     },
     "execution_count": 23,
     "metadata": {},
     "output_type": "execute_result"
    }
   ],
   "source": [
    "from nltk.probability import FreqDist\n",
    "\n",
    "tokens = nltk.tokenize.word_tokenize(lemmatize_text)\n",
    "fdist=FreqDist(tokens)\n",
    "fdist.plot(30,cumulative= False)"
   ]
  },
  {
   "cell_type": "code",
   "execution_count": null,
   "metadata": {
    "id": "Lw4daqo_myy6"
   },
   "outputs": [],
   "source": []
  }
 ],
 "metadata": {
  "colab": {
   "provenance": []
  },
  "kernelspec": {
   "display_name": "Python 3 (ipykernel)",
   "language": "python",
   "name": "python3"
  },
  "language_info": {
   "codemirror_mode": {
    "name": "ipython",
    "version": 3
   },
   "file_extension": ".py",
   "mimetype": "text/x-python",
   "name": "python",
   "nbconvert_exporter": "python",
   "pygments_lexer": "ipython3",
   "version": "3.10.9"
  }
 },
 "nbformat": 4,
 "nbformat_minor": 1
}
