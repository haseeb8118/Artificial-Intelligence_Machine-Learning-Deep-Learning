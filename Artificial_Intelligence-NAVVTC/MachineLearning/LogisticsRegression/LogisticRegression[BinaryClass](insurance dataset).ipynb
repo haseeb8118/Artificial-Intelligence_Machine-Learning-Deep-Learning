{
 "cells": [
  {
   "cell_type": "code",
   "execution_count": 16,
   "id": "684edd4e",
   "metadata": {},
   "outputs": [],
   "source": [
    "import pandas as pd\n",
    "import numpy as np\n",
    "import matplotlib.pyplot as plt"
   ]
  },
  {
   "cell_type": "code",
   "execution_count": 28,
   "id": "17847317",
   "metadata": {},
   "outputs": [
    {
     "data": {
      "text/html": [
       "<div>\n",
       "<style scoped>\n",
       "    .dataframe tbody tr th:only-of-type {\n",
       "        vertical-align: middle;\n",
       "    }\n",
       "\n",
       "    .dataframe tbody tr th {\n",
       "        vertical-align: top;\n",
       "    }\n",
       "\n",
       "    .dataframe thead th {\n",
       "        text-align: right;\n",
       "    }\n",
       "</style>\n",
       "<table border=\"1\" class=\"dataframe\">\n",
       "  <thead>\n",
       "    <tr style=\"text-align: right;\">\n",
       "      <th></th>\n",
       "      <th>age</th>\n",
       "      <th>sex</th>\n",
       "      <th>bmi</th>\n",
       "      <th>children</th>\n",
       "      <th>smoker</th>\n",
       "      <th>region</th>\n",
       "      <th>charges</th>\n",
       "    </tr>\n",
       "  </thead>\n",
       "  <tbody>\n",
       "    <tr>\n",
       "      <th>0</th>\n",
       "      <td>19</td>\n",
       "      <td>female</td>\n",
       "      <td>27.900</td>\n",
       "      <td>0</td>\n",
       "      <td>yes</td>\n",
       "      <td>southwest</td>\n",
       "      <td>16884.92400</td>\n",
       "    </tr>\n",
       "    <tr>\n",
       "      <th>1</th>\n",
       "      <td>18</td>\n",
       "      <td>male</td>\n",
       "      <td>33.770</td>\n",
       "      <td>1</td>\n",
       "      <td>no</td>\n",
       "      <td>southeast</td>\n",
       "      <td>1725.55230</td>\n",
       "    </tr>\n",
       "    <tr>\n",
       "      <th>2</th>\n",
       "      <td>28</td>\n",
       "      <td>male</td>\n",
       "      <td>33.000</td>\n",
       "      <td>3</td>\n",
       "      <td>no</td>\n",
       "      <td>southeast</td>\n",
       "      <td>4449.46200</td>\n",
       "    </tr>\n",
       "    <tr>\n",
       "      <th>3</th>\n",
       "      <td>33</td>\n",
       "      <td>male</td>\n",
       "      <td>22.705</td>\n",
       "      <td>0</td>\n",
       "      <td>no</td>\n",
       "      <td>northwest</td>\n",
       "      <td>21984.47061</td>\n",
       "    </tr>\n",
       "    <tr>\n",
       "      <th>4</th>\n",
       "      <td>32</td>\n",
       "      <td>male</td>\n",
       "      <td>28.880</td>\n",
       "      <td>0</td>\n",
       "      <td>no</td>\n",
       "      <td>northwest</td>\n",
       "      <td>3866.85520</td>\n",
       "    </tr>\n",
       "  </tbody>\n",
       "</table>\n",
       "</div>"
      ],
      "text/plain": [
       "   age     sex     bmi  children smoker     region      charges\n",
       "0   19  female  27.900         0    yes  southwest  16884.92400\n",
       "1   18    male  33.770         1     no  southeast   1725.55230\n",
       "2   28    male  33.000         3     no  southeast   4449.46200\n",
       "3   33    male  22.705         0     no  northwest  21984.47061\n",
       "4   32    male  28.880         0     no  northwest   3866.85520"
      ]
     },
     "execution_count": 28,
     "metadata": {},
     "output_type": "execute_result"
    }
   ],
   "source": [
    "df =pd.read_csv(\"insurance.csv\")\n",
    "df.head()"
   ]
  },
  {
   "cell_type": "code",
   "execution_count": 29,
   "id": "cf29058b",
   "metadata": {},
   "outputs": [],
   "source": [
    "Data = df[[\"age\", \"smoker\"]]\n"
   ]
  },
  {
   "cell_type": "code",
   "execution_count": 30,
   "id": "d18d735c",
   "metadata": {},
   "outputs": [
    {
     "data": {
      "text/html": [
       "<div>\n",
       "<style scoped>\n",
       "    .dataframe tbody tr th:only-of-type {\n",
       "        vertical-align: middle;\n",
       "    }\n",
       "\n",
       "    .dataframe tbody tr th {\n",
       "        vertical-align: top;\n",
       "    }\n",
       "\n",
       "    .dataframe thead th {\n",
       "        text-align: right;\n",
       "    }\n",
       "</style>\n",
       "<table border=\"1\" class=\"dataframe\">\n",
       "  <thead>\n",
       "    <tr style=\"text-align: right;\">\n",
       "      <th></th>\n",
       "      <th>age</th>\n",
       "      <th>smoker</th>\n",
       "    </tr>\n",
       "  </thead>\n",
       "  <tbody>\n",
       "    <tr>\n",
       "      <th>0</th>\n",
       "      <td>19</td>\n",
       "      <td>yes</td>\n",
       "    </tr>\n",
       "    <tr>\n",
       "      <th>1</th>\n",
       "      <td>18</td>\n",
       "      <td>no</td>\n",
       "    </tr>\n",
       "    <tr>\n",
       "      <th>2</th>\n",
       "      <td>28</td>\n",
       "      <td>no</td>\n",
       "    </tr>\n",
       "    <tr>\n",
       "      <th>3</th>\n",
       "      <td>33</td>\n",
       "      <td>no</td>\n",
       "    </tr>\n",
       "    <tr>\n",
       "      <th>4</th>\n",
       "      <td>32</td>\n",
       "      <td>no</td>\n",
       "    </tr>\n",
       "  </tbody>\n",
       "</table>\n",
       "</div>"
      ],
      "text/plain": [
       "   age smoker\n",
       "0   19    yes\n",
       "1   18     no\n",
       "2   28     no\n",
       "3   33     no\n",
       "4   32     no"
      ]
     },
     "execution_count": 30,
     "metadata": {},
     "output_type": "execute_result"
    }
   ],
   "source": [
    "Data.head()"
   ]
  },
  {
   "cell_type": "code",
   "execution_count": 31,
   "id": "aff4aa3d",
   "metadata": {},
   "outputs": [
    {
     "name": "stderr",
     "output_type": "stream",
     "text": [
      "C:\\Users\\STDC Tourism Counter\\AppData\\Local\\Temp\\ipykernel_3720\\1934414276.py:2: SettingWithCopyWarning: \n",
      "A value is trying to be set on a copy of a slice from a DataFrame.\n",
      "Try using .loc[row_indexer,col_indexer] = value instead\n",
      "\n",
      "See the caveats in the documentation: https://pandas.pydata.org/pandas-docs/stable/user_guide/indexing.html#returning-a-view-versus-a-copy\n",
      "  Data[\"smoker\"] = Data[\"smoker\"].map(flower_mapping)\n"
     ]
    }
   ],
   "source": [
    "flower_mapping = {'yes': 1, 'no': 0}\n",
    "Data[\"smoker\"] = Data[\"smoker\"].map(flower_mapping)"
   ]
  },
  {
   "cell_type": "code",
   "execution_count": 32,
   "id": "cc53d3c3",
   "metadata": {},
   "outputs": [
    {
     "data": {
      "text/html": [
       "<div>\n",
       "<style scoped>\n",
       "    .dataframe tbody tr th:only-of-type {\n",
       "        vertical-align: middle;\n",
       "    }\n",
       "\n",
       "    .dataframe tbody tr th {\n",
       "        vertical-align: top;\n",
       "    }\n",
       "\n",
       "    .dataframe thead th {\n",
       "        text-align: right;\n",
       "    }\n",
       "</style>\n",
       "<table border=\"1\" class=\"dataframe\">\n",
       "  <thead>\n",
       "    <tr style=\"text-align: right;\">\n",
       "      <th></th>\n",
       "      <th>age</th>\n",
       "      <th>smoker</th>\n",
       "    </tr>\n",
       "  </thead>\n",
       "  <tbody>\n",
       "    <tr>\n",
       "      <th>0</th>\n",
       "      <td>19</td>\n",
       "      <td>1</td>\n",
       "    </tr>\n",
       "    <tr>\n",
       "      <th>1</th>\n",
       "      <td>18</td>\n",
       "      <td>0</td>\n",
       "    </tr>\n",
       "    <tr>\n",
       "      <th>2</th>\n",
       "      <td>28</td>\n",
       "      <td>0</td>\n",
       "    </tr>\n",
       "    <tr>\n",
       "      <th>3</th>\n",
       "      <td>33</td>\n",
       "      <td>0</td>\n",
       "    </tr>\n",
       "    <tr>\n",
       "      <th>4</th>\n",
       "      <td>32</td>\n",
       "      <td>0</td>\n",
       "    </tr>\n",
       "  </tbody>\n",
       "</table>\n",
       "</div>"
      ],
      "text/plain": [
       "   age  smoker\n",
       "0   19       1\n",
       "1   18       0\n",
       "2   28       0\n",
       "3   33       0\n",
       "4   32       0"
      ]
     },
     "execution_count": 32,
     "metadata": {},
     "output_type": "execute_result"
    }
   ],
   "source": [
    "Data.head()"
   ]
  },
  {
   "cell_type": "code",
   "execution_count": 33,
   "id": "4e378432",
   "metadata": {},
   "outputs": [
    {
     "data": {
      "text/plain": [
       "<matplotlib.collections.PathCollection at 0x16f153e9ff0>"
      ]
     },
     "execution_count": 33,
     "metadata": {},
     "output_type": "execute_result"
    },
    {
     "data": {
      "image/png": "[encoded data removed]",
      "text/plain": [
       "<Figure size 640x480 with 1 Axes>"
      ]
     },
     "metadata": {},
     "output_type": "display_data"
    }
   ],
   "source": [
    "plt.scatter(Data.age,Data.smoker,marker='+',color='red')"
   ]
  },
  {
   "cell_type": "code",
   "execution_count": 34,
   "id": "0ad9454c",
   "metadata": {},
   "outputs": [],
   "source": [
    "from sklearn.model_selection import train_test_split"
   ]
  },
  {
   "cell_type": "code",
   "execution_count": 36,
   "id": "6f8dbbfc",
   "metadata": {},
   "outputs": [],
   "source": [
    "X_train, X_test, y_train, y_test = train_test_split(Data[['age']],Data.smoker,train_size=0.8)"
   ]
  },
  {
   "cell_type": "code",
   "execution_count": 37,
   "id": "d9b074c0",
   "metadata": {},
   "outputs": [
    {
     "data": {
      "text/html": [
       "<div>\n",
       "<style scoped>\n",
       "    .dataframe tbody tr th:only-of-type {\n",
       "        vertical-align: middle;\n",
       "    }\n",
       "\n",
       "    .dataframe tbody tr th {\n",
       "        vertical-align: top;\n",
       "    }\n",
       "\n",
       "    .dataframe thead th {\n",
       "        text-align: right;\n",
       "    }\n",
       "</style>\n",
       "<table border=\"1\" class=\"dataframe\">\n",
       "  <thead>\n",
       "    <tr style=\"text-align: right;\">\n",
       "      <th></th>\n",
       "      <th>age</th>\n",
       "    </tr>\n",
       "  </thead>\n",
       "  <tbody>\n",
       "    <tr>\n",
       "      <th>58</th>\n",
       "      <td>53</td>\n",
       "    </tr>\n",
       "    <tr>\n",
       "      <th>1337</th>\n",
       "      <td>61</td>\n",
       "    </tr>\n",
       "    <tr>\n",
       "      <th>156</th>\n",
       "      <td>48</td>\n",
       "    </tr>\n",
       "    <tr>\n",
       "      <th>334</th>\n",
       "      <td>43</td>\n",
       "    </tr>\n",
       "    <tr>\n",
       "      <th>1002</th>\n",
       "      <td>24</td>\n",
       "    </tr>\n",
       "    <tr>\n",
       "      <th>...</th>\n",
       "      <td>...</td>\n",
       "    </tr>\n",
       "    <tr>\n",
       "      <th>71</th>\n",
       "      <td>31</td>\n",
       "    </tr>\n",
       "    <tr>\n",
       "      <th>1329</th>\n",
       "      <td>52</td>\n",
       "    </tr>\n",
       "    <tr>\n",
       "      <th>556</th>\n",
       "      <td>46</td>\n",
       "    </tr>\n",
       "    <tr>\n",
       "      <th>866</th>\n",
       "      <td>18</td>\n",
       "    </tr>\n",
       "    <tr>\n",
       "      <th>973</th>\n",
       "      <td>19</td>\n",
       "    </tr>\n",
       "  </tbody>\n",
       "</table>\n",
       "<p>268 rows × 1 columns</p>\n",
       "</div>"
      ],
      "text/plain": [
       "      age\n",
       "58     53\n",
       "1337   61\n",
       "156    48\n",
       "334    43\n",
       "1002   24\n",
       "...   ...\n",
       "71     31\n",
       "1329   52\n",
       "556    46\n",
       "866    18\n",
       "973    19\n",
       "\n",
       "[268 rows x 1 columns]"
      ]
     },
     "execution_count": 37,
     "metadata": {},
     "output_type": "execute_result"
    }
   ],
   "source": [
    "X_test"
   ]
  },
  {
   "cell_type": "code",
   "execution_count": 38,
   "id": "39a2072e",
   "metadata": {},
   "outputs": [],
   "source": [
    "from sklearn.linear_model import LogisticRegression\n",
    "model = LogisticRegression()"
   ]
  },
  {
   "cell_type": "code",
   "execution_count": 39,
   "id": "58f58ff7",
   "metadata": {},
   "outputs": [
    {
     "data": {
      "text/html": [
       "<style>#sk-container-id-1 {color: black;background-color: white;}#sk-container-id-1 pre{padding: 0;}#sk-container-id-1 div.sk-toggleable {background-color: white;}#sk-container-id-1 label.sk-toggleable__label {cursor: pointer;display: block;width: 100%;margin-bottom: 0;padding: 0.3em;box-sizing: border-box;text-align: center;}#sk-container-id-1 label.sk-toggleable__label-arrow:before {content: \"▸\";float: left;margin-right: 0.25em;color: #696969;}#sk-container-id-1 label.sk-toggleable__label-arrow:hover:before {color: black;}#sk-container-id-1 div.sk-estimator:hover label.sk-toggleable__label-arrow:before {color: black;}#sk-container-id-1 div.sk-toggleable__content {max-height: 0;max-width: 0;overflow: hidden;text-align: left;background-color: #f0f8ff;}#sk-container-id-1 div.sk-toggleable__content pre {margin: 0.2em;color: black;border-radius: 0.25em;background-color: #f0f8ff;}#sk-container-id-1 input.sk-toggleable__control:checked~div.sk-toggleable__content {max-height: 200px;max-width: 100%;overflow: auto;}#sk-container-id-1 input.sk-toggleable__control:checked~label.sk-toggleable__label-arrow:before {content: \"▾\";}#sk-container-id-1 div.sk-estimator input.sk-toggleable__control:checked~label.sk-toggleable__label {background-color: #d4ebff;}#sk-container-id-1 div.sk-label input.sk-toggleable__control:checked~label.sk-toggleable__label {background-color: #d4ebff;}#sk-container-id-1 input.sk-hidden--visually {border: 0;clip: rect(1px 1px 1px 1px);clip: rect(1px, 1px, 1px, 1px);height: 1px;margin: -1px;overflow: hidden;padding: 0;position: absolute;width: 1px;}#sk-container-id-1 div.sk-estimator {font-family: monospace;background-color: #f0f8ff;border: 1px dotted black;border-radius: 0.25em;box-sizing: border-box;margin-bottom: 0.5em;}#sk-container-id-1 div.sk-estimator:hover {background-color: #d4ebff;}#sk-container-id-1 div.sk-parallel-item::after {content: \"\";width: 100%;border-bottom: 1px solid gray;flex-grow: 1;}#sk-container-id-1 div.sk-label:hover label.sk-toggleable__label {background-color: #d4ebff;}#sk-container-id-1 div.sk-serial::before {content: \"\";position: absolute;border-left: 1px solid gray;box-sizing: border-box;top: 0;bottom: 0;left: 50%;z-index: 0;}#sk-container-id-1 div.sk-serial {display: flex;flex-direction: column;align-items: center;background-color: white;padding-right: 0.2em;padding-left: 0.2em;position: relative;}#sk-container-id-1 div.sk-item {position: relative;z-index: 1;}#sk-container-id-1 div.sk-parallel {display: flex;align-items: stretch;justify-content: center;background-color: white;position: relative;}#sk-container-id-1 div.sk-item::before, #sk-container-id-1 div.sk-parallel-item::before {content: \"\";position: absolute;border-left: 1px solid gray;box-sizing: border-box;top: 0;bottom: 0;left: 50%;z-index: -1;}#sk-container-id-1 div.sk-parallel-item {display: flex;flex-direction: column;z-index: 1;position: relative;background-color: white;}#sk-container-id-1 div.sk-parallel-item:first-child::after {align-self: flex-end;width: 50%;}#sk-container-id-1 div.sk-parallel-item:last-child::after {align-self: flex-start;width: 50%;}#sk-container-id-1 div.sk-parallel-item:only-child::after {width: 0;}#sk-container-id-1 div.sk-dashed-wrapped {border: 1px dashed gray;margin: 0 0.4em 0.5em 0.4em;box-sizing: border-box;padding-bottom: 0.4em;background-color: white;}#sk-container-id-1 div.sk-label label {font-family: monospace;font-weight: bold;display: inline-block;line-height: 1.2em;}#sk-container-id-1 div.sk-label-container {text-align: center;}#sk-container-id-1 div.sk-container {/* jupyter's `normalize.less` sets `[hidden] { display: none; }` but bootstrap.min.css set `[hidden] { display: none !important; }` so we also need the `!important` here to be able to override the default hidden behavior on the sphinx rendered scikit-learn.org. See: https://github.com/scikit-learn/scikit-learn/issues/21755 */display: inline-block !important;position: relative;}#sk-container-id-1 div.sk-text-repr-fallback {display: none;}</style><div id=\"sk-container-id-1\" class=\"sk-top-container\"><div class=\"sk-text-repr-fallback\"><pre>LogisticRegression()</pre><b>In a Jupyter environment, please rerun this cell to show the HTML representation or trust the notebook. <br />On GitHub, the HTML representation is unable to render, please try loading this page with nbviewer.org.</b></div><div class=\"sk-container\" hidden><div class=\"sk-item\"><div class=\"sk-estimator sk-toggleable\"><input class=\"sk-toggleable__control sk-hidden--visually\" id=\"sk-estimator-id-1\" type=\"checkbox\" checked><label for=\"sk-estimator-id-1\" class=\"sk-toggleable__label sk-toggleable__label-arrow\">LogisticRegression</label><div class=\"sk-toggleable__content\"><pre>LogisticRegression()</pre></div></div></div></div></div>"
      ],
      "text/plain": [
       "LogisticRegression()"
      ]
     },
     "execution_count": 39,
     "metadata": {},
     "output_type": "execute_result"
    }
   ],
   "source": [
    "model.fit(X_train, y_train)"
   ]
  },
  {
   "cell_type": "code",
   "execution_count": 40,
   "id": "bd969010",
   "metadata": {},
   "outputs": [
    {
     "data": {
      "text/html": [
       "<div>\n",
       "<style scoped>\n",
       "    .dataframe tbody tr th:only-of-type {\n",
       "        vertical-align: middle;\n",
       "    }\n",
       "\n",
       "    .dataframe tbody tr th {\n",
       "        vertical-align: top;\n",
       "    }\n",
       "\n",
       "    .dataframe thead th {\n",
       "        text-align: right;\n",
       "    }\n",
       "</style>\n",
       "<table border=\"1\" class=\"dataframe\">\n",
       "  <thead>\n",
       "    <tr style=\"text-align: right;\">\n",
       "      <th></th>\n",
       "      <th>age</th>\n",
       "    </tr>\n",
       "  </thead>\n",
       "  <tbody>\n",
       "    <tr>\n",
       "      <th>58</th>\n",
       "      <td>53</td>\n",
       "    </tr>\n",
       "    <tr>\n",
       "      <th>1337</th>\n",
       "      <td>61</td>\n",
       "    </tr>\n",
       "    <tr>\n",
       "      <th>156</th>\n",
       "      <td>48</td>\n",
       "    </tr>\n",
       "    <tr>\n",
       "      <th>334</th>\n",
       "      <td>43</td>\n",
       "    </tr>\n",
       "    <tr>\n",
       "      <th>1002</th>\n",
       "      <td>24</td>\n",
       "    </tr>\n",
       "    <tr>\n",
       "      <th>...</th>\n",
       "      <td>...</td>\n",
       "    </tr>\n",
       "    <tr>\n",
       "      <th>71</th>\n",
       "      <td>31</td>\n",
       "    </tr>\n",
       "    <tr>\n",
       "      <th>1329</th>\n",
       "      <td>52</td>\n",
       "    </tr>\n",
       "    <tr>\n",
       "      <th>556</th>\n",
       "      <td>46</td>\n",
       "    </tr>\n",
       "    <tr>\n",
       "      <th>866</th>\n",
       "      <td>18</td>\n",
       "    </tr>\n",
       "    <tr>\n",
       "      <th>973</th>\n",
       "      <td>19</td>\n",
       "    </tr>\n",
       "  </tbody>\n",
       "</table>\n",
       "<p>268 rows × 1 columns</p>\n",
       "</div>"
      ],
      "text/plain": [
       "      age\n",
       "58     53\n",
       "1337   61\n",
       "156    48\n",
       "334    43\n",
       "1002   24\n",
       "...   ...\n",
       "71     31\n",
       "1329   52\n",
       "556    46\n",
       "866    18\n",
       "973    19\n",
       "\n",
       "[268 rows x 1 columns]"
      ]
     },
     "execution_count": 40,
     "metadata": {},
     "output_type": "execute_result"
    }
   ],
   "source": [
    "X_test"
   ]
  },
  {
   "cell_type": "code",
   "execution_count": 41,
   "id": "0de72fa8",
   "metadata": {},
   "outputs": [],
   "source": [
    "y_predicted = model.predict(X_test)"
   ]
  },
  {
   "cell_type": "code",
   "execution_count": 42,
   "id": "2070f947",
   "metadata": {},
   "outputs": [
    {
     "data": {
      "text/plain": [
       "array([[0.81712394, 0.18287606],\n",
       "       [0.82841647, 0.17158353],\n",
       "       [0.80977784, 0.19022216],\n",
       "       [0.80220808, 0.19779192],\n",
       "       [0.77138993, 0.22861007],\n",
       "       [0.81421225, 0.18578775],\n",
       "       [0.80220808, 0.19779192],\n",
       "       [0.81126491, 0.18873509],\n",
       "       [0.81274304, 0.18725696],\n",
       "       [0.7991173 , 0.2008827 ],\n",
       "       [0.79123268, 0.20876732],\n",
       "       [0.82564622, 0.17435378],\n",
       "       [0.76622689, 0.23377311],\n",
       "       [0.78476264, 0.21523736],\n",
       "       [0.81712394, 0.18287606],\n",
       "       [0.81274304, 0.18725696],\n",
       "       [0.76967788, 0.23032212],\n",
       "       [0.77981541, 0.22018459],\n",
       "       [0.76448798, 0.23551202],\n",
       "       [0.8228408 , 0.1771592 ],\n",
       "       [0.78476264, 0.21523736],\n",
       "       [0.76795686, 0.23204314],\n",
       "       [0.83115171, 0.16884829],\n",
       "       [0.77138993, 0.22861007],\n",
       "       [0.80977784, 0.19022216],\n",
       "       [0.81126491, 0.18873509],\n",
       "       [0.80677685, 0.19322315],\n",
       "       [0.79441357, 0.20558643],\n",
       "       [0.80066719, 0.19933281],\n",
       "       [0.76448798, 0.23551202],\n",
       "       [0.78312258, 0.21687742],\n",
       "       [0.77138993, 0.22861007],\n",
       "       [0.76098338, 0.23901662],\n",
       "       [0.7975584 , 0.2024416 ],\n",
       "       [0.77814831, 0.22185169],\n",
       "       [0.76622689, 0.23377311],\n",
       "       [0.80828183, 0.19171817],\n",
       "       [0.80066719, 0.19933281],\n",
       "       [0.76098338, 0.23901662],\n",
       "       [0.83250625, 0.16749375],\n",
       "       [0.82564622, 0.17435378],\n",
       "       [0.82841647, 0.17158353],\n",
       "       [0.81421225, 0.18578775],\n",
       "       [0.76795686, 0.23204314],\n",
       "       [0.81274304, 0.18725696],\n",
       "       [0.80220808, 0.19779192],\n",
       "       [0.80977784, 0.19022216],\n",
       "       [0.76098338, 0.23901662],\n",
       "       [0.81856645, 0.18143355],\n",
       "       [0.82424791, 0.17575209],\n",
       "       [0.76098338, 0.23901662],\n",
       "       [0.82703573, 0.17296427],\n",
       "       [0.79282763, 0.20717237],\n",
       "       [0.80828183, 0.19171817],\n",
       "       [0.76098338, 0.23901662],\n",
       "       [0.80828183, 0.19171817],\n",
       "       [0.76274013, 0.23725987],\n",
       "       [0.83250625, 0.16749375],\n",
       "       [0.83250625, 0.16749375],\n",
       "       [0.81421225, 0.18578775],\n",
       "       [0.81567254, 0.18432746],\n",
       "       [0.76274013, 0.23725987],\n",
       "       [0.76274013, 0.23725987],\n",
       "       [0.8228408 , 0.1771592 ],\n",
       "       [0.77309301, 0.22690699],\n",
       "       [0.76274013, 0.23725987],\n",
       "       [0.81274304, 0.18725696],\n",
       "       [0.81126491, 0.18873509],\n",
       "       [0.7975584 , 0.2024416 ],\n",
       "       [0.79282763, 0.20717237],\n",
       "       [0.77138993, 0.22861007],\n",
       "       [0.80220808, 0.19779192],\n",
       "       [0.7880157 , 0.2119843 ],\n",
       "       [0.76967788, 0.23032212],\n",
       "       [0.7991173 , 0.2008827 ],\n",
       "       [0.79123268, 0.20876732],\n",
       "       [0.7896287 , 0.2103713 ],\n",
       "       [0.82978846, 0.17021154],\n",
       "       [0.78476264, 0.21523736],\n",
       "       [0.7764722 , 0.2235278 ],\n",
       "       [0.76795686, 0.23204314],\n",
       "       [0.7975584 , 0.2024416 ],\n",
       "       [0.82841647, 0.17158353],\n",
       "       [0.81126491, 0.18873509],\n",
       "       [0.80526291, 0.19473709],\n",
       "       [0.76098338, 0.23901662],\n",
       "       [0.81856645, 0.18143355],\n",
       "       [0.76274013, 0.23725987],\n",
       "       [0.76967788, 0.23032212],\n",
       "       [0.79441357, 0.20558643],\n",
       "       [0.7747871 , 0.2252129 ],\n",
       "       [0.79599049, 0.20400951],\n",
       "       [0.79282763, 0.20717237],\n",
       "       [0.81274304, 0.18725696],\n",
       "       [0.7975584 , 0.2024416 ],\n",
       "       [0.78639368, 0.21360632],\n",
       "       [0.82000008, 0.17999992],\n",
       "       [0.7991173 , 0.2008827 ],\n",
       "       [0.81567254, 0.18432746],\n",
       "       [0.80066719, 0.19933281],\n",
       "       [0.76098338, 0.23901662],\n",
       "       [0.83250625, 0.16749375],\n",
       "       [0.7814735 , 0.2185265 ],\n",
       "       [0.7747871 , 0.2252129 ],\n",
       "       [0.80526291, 0.19473709],\n",
       "       [0.80526291, 0.19473709],\n",
       "       [0.82841647, 0.17158353],\n",
       "       [0.80373999, 0.19626001],\n",
       "       [0.80677685, 0.19322315],\n",
       "       [0.77981541, 0.22018459],\n",
       "       [0.81712394, 0.18287606],\n",
       "       [0.7764722 , 0.2235278 ],\n",
       "       [0.82978846, 0.17021154],\n",
       "       [0.78476264, 0.21523736],\n",
       "       [0.76274013, 0.23725987],\n",
       "       [0.81274304, 0.18725696],\n",
       "       [0.76098338, 0.23901662],\n",
       "       [0.82564622, 0.17435378],\n",
       "       [0.77981541, 0.22018459],\n",
       "       [0.80373999, 0.19626001],\n",
       "       [0.78639368, 0.21360632],\n",
       "       [0.76274013, 0.23725987],\n",
       "       [0.80220808, 0.19779192],\n",
       "       [0.7814735 , 0.2185265 ],\n",
       "       [0.76274013, 0.23725987],\n",
       "       [0.80066719, 0.19933281],\n",
       "       [0.76098338, 0.23901662],\n",
       "       [0.80220808, 0.19779192],\n",
       "       [0.77814831, 0.22185169],\n",
       "       [0.7747871 , 0.2252129 ],\n",
       "       [0.80677685, 0.19322315],\n",
       "       [0.81421225, 0.18578775],\n",
       "       [0.80526291, 0.19473709],\n",
       "       [0.83250625, 0.16749375],\n",
       "       [0.80066719, 0.19933281],\n",
       "       [0.80828183, 0.19171817],\n",
       "       [0.77814831, 0.22185169],\n",
       "       [0.83250625, 0.16749375],\n",
       "       [0.77309301, 0.22690699],\n",
       "       [0.81421225, 0.18578775],\n",
       "       [0.79441357, 0.20558643],\n",
       "       [0.82000008, 0.17999992],\n",
       "       [0.76622689, 0.23377311],\n",
       "       [0.80066719, 0.19933281],\n",
       "       [0.78476264, 0.21523736],\n",
       "       [0.78639368, 0.21360632],\n",
       "       [0.80677685, 0.19322315],\n",
       "       [0.81856645, 0.18143355],\n",
       "       [0.76274013, 0.23725987],\n",
       "       [0.79599049, 0.20400951],\n",
       "       [0.80066719, 0.19933281],\n",
       "       [0.7764722 , 0.2235278 ],\n",
       "       [0.81274304, 0.18725696],\n",
       "       [0.7991173 , 0.2008827 ],\n",
       "       [0.82978846, 0.17021154],\n",
       "       [0.81274304, 0.18725696],\n",
       "       [0.7814735 , 0.2185265 ],\n",
       "       [0.81274304, 0.18725696],\n",
       "       [0.82142486, 0.17857514],\n",
       "       [0.80677685, 0.19322315],\n",
       "       [0.82841647, 0.17158353],\n",
       "       [0.81126491, 0.18873509],\n",
       "       [0.80220808, 0.19779192],\n",
       "       [0.78312258, 0.21687742],\n",
       "       [0.82000008, 0.17999992],\n",
       "       [0.82703573, 0.17296427],\n",
       "       [0.79282763, 0.20717237],\n",
       "       [0.76098338, 0.23901662],\n",
       "       [0.80373999, 0.19626001],\n",
       "       [0.82142486, 0.17857514],\n",
       "       [0.81126491, 0.18873509],\n",
       "       [0.77309301, 0.22690699],\n",
       "       [0.79441357, 0.20558643],\n",
       "       [0.78476264, 0.21523736],\n",
       "       [0.76274013, 0.23725987],\n",
       "       [0.80220808, 0.19779192],\n",
       "       [0.80677685, 0.19322315],\n",
       "       [0.76967788, 0.23032212],\n",
       "       [0.80373999, 0.19626001],\n",
       "       [0.7991173 , 0.2008827 ],\n",
       "       [0.82703573, 0.17296427],\n",
       "       [0.77309301, 0.22690699],\n",
       "       [0.83115171, 0.16884829],\n",
       "       [0.8228408 , 0.1771592 ],\n",
       "       [0.78312258, 0.21687742],\n",
       "       [0.80373999, 0.19626001],\n",
       "       [0.80828183, 0.19171817],\n",
       "       [0.7896287 , 0.2103713 ],\n",
       "       [0.81126491, 0.18873509],\n",
       "       [0.7880157 , 0.2119843 ],\n",
       "       [0.82142486, 0.17857514],\n",
       "       [0.78639368, 0.21360632],\n",
       "       [0.79123268, 0.20876732],\n",
       "       [0.76098338, 0.23901662],\n",
       "       [0.80526291, 0.19473709],\n",
       "       [0.82564622, 0.17435378],\n",
       "       [0.76795686, 0.23204314],\n",
       "       [0.78312258, 0.21687742],\n",
       "       [0.80220808, 0.19779192],\n",
       "       [0.7880157 , 0.2119843 ],\n",
       "       [0.7747871 , 0.2252129 ],\n",
       "       [0.82000008, 0.17999992],\n",
       "       [0.82978846, 0.17021154],\n",
       "       [0.76967788, 0.23032212],\n",
       "       [0.82703573, 0.17296427],\n",
       "       [0.83115171, 0.16884829],\n",
       "       [0.76622689, 0.23377311],\n",
       "       [0.80220808, 0.19779192],\n",
       "       [0.7896287 , 0.2103713 ],\n",
       "       [0.79123268, 0.20876732],\n",
       "       [0.76274013, 0.23725987],\n",
       "       [0.7975584 , 0.2024416 ],\n",
       "       [0.7764722 , 0.2235278 ],\n",
       "       [0.77981541, 0.22018459],\n",
       "       [0.80373999, 0.19626001],\n",
       "       [0.82841647, 0.17158353],\n",
       "       [0.7991173 , 0.2008827 ],\n",
       "       [0.83115171, 0.16884829],\n",
       "       [0.83115171, 0.16884829],\n",
       "       [0.82703573, 0.17296427],\n",
       "       [0.76448798, 0.23551202],\n",
       "       [0.78476264, 0.21523736],\n",
       "       [0.82424791, 0.17575209],\n",
       "       [0.76622689, 0.23377311],\n",
       "       [0.76622689, 0.23377311],\n",
       "       [0.79599049, 0.20400951],\n",
       "       [0.76967788, 0.23032212],\n",
       "       [0.78476264, 0.21523736],\n",
       "       [0.81856645, 0.18143355],\n",
       "       [0.78312258, 0.21687742],\n",
       "       [0.82564622, 0.17435378],\n",
       "       [0.7747871 , 0.2252129 ],\n",
       "       [0.77814831, 0.22185169],\n",
       "       [0.79599049, 0.20400951],\n",
       "       [0.76274013, 0.23725987],\n",
       "       [0.82142486, 0.17857514],\n",
       "       [0.76274013, 0.23725987],\n",
       "       [0.76098338, 0.23901662],\n",
       "       [0.76098338, 0.23901662],\n",
       "       [0.83250625, 0.16749375],\n",
       "       [0.80220808, 0.19779192],\n",
       "       [0.76274013, 0.23725987],\n",
       "       [0.81856645, 0.18143355],\n",
       "       [0.76274013, 0.23725987],\n",
       "       [0.77981541, 0.22018459],\n",
       "       [0.82000008, 0.17999992],\n",
       "       [0.76274013, 0.23725987],\n",
       "       [0.7975584 , 0.2024416 ],\n",
       "       [0.80677685, 0.19322315],\n",
       "       [0.77309301, 0.22690699],\n",
       "       [0.76795686, 0.23204314],\n",
       "       [0.82000008, 0.17999992],\n",
       "       [0.83115171, 0.16884829],\n",
       "       [0.82424791, 0.17575209],\n",
       "       [0.79123268, 0.20876732],\n",
       "       [0.80677685, 0.19322315],\n",
       "       [0.81421225, 0.18578775],\n",
       "       [0.82142486, 0.17857514],\n",
       "       [0.76274013, 0.23725987],\n",
       "       [0.81421225, 0.18578775],\n",
       "       [0.7896287 , 0.2103713 ],\n",
       "       [0.76098338, 0.23901662],\n",
       "       [0.76098338, 0.23901662],\n",
       "       [0.78312258, 0.21687742],\n",
       "       [0.81567254, 0.18432746],\n",
       "       [0.80677685, 0.19322315],\n",
       "       [0.76098338, 0.23901662],\n",
       "       [0.76274013, 0.23725987]])"
      ]
     },
     "execution_count": 42,
     "metadata": {},
     "output_type": "execute_result"
    }
   ],
   "source": [
    "model.predict_proba(X_test)"
   ]
  },
  {
   "cell_type": "code",
   "execution_count": 43,
   "id": "50597ee7",
   "metadata": {},
   "outputs": [
    {
     "data": {
      "text/plain": [
       "0.7947761194029851"
      ]
     },
     "execution_count": 43,
     "metadata": {},
     "output_type": "execute_result"
    }
   ],
   "source": [
    "model.score(X_test,y_test)"
   ]
  },
  {
   "cell_type": "code",
   "execution_count": 45,
   "id": "954ad9ad",
   "metadata": {},
   "outputs": [
    {
     "name": "stdout",
     "output_type": "stream",
     "text": [
      "[1 0 0 0 0 0 1 0 0 0 0 0 0 1 1 0 0 0 0 0 0 0 0 1 0 0 0 1 1 0 0 0 0 0 1 0 0\n",
      " 0 0 0 1 0 1 1 1 0 1 0 0 0 0 1 1 0 0 0 0 0 1 0 0 0 0 1 1 0 0 1 0 0 0 1 1 0\n",
      " 0 0 0 0 0 0 0 0 0 0 0 0 0 0 1 0 0 1 0 0 0 0 1 0 1 1]\n"
     ]
    }
   ],
   "source": [
    "array_with_zeros_and_ones = np.random.choice([0, 1], size=100, p=[0.8, 0.2])\n",
    "\n",
    "print(array_with_zeros_and_ones)"
   ]
  },
  {
   "cell_type": "code",
   "execution_count": 46,
   "id": "e9dc49d3",
   "metadata": {},
   "outputs": [
    {
     "data": {
      "text/plain": [
       "array([0, 0, 0, 0, 0, 0, 0, 0, 0, 0, 0, 0, 0, 0, 0, 0, 0, 0, 0, 0, 0, 0,\n",
       "       0, 0, 0, 0, 0, 0, 0, 0, 0, 0, 0, 0, 0, 0, 0, 0, 0, 0, 0, 0, 0, 0,\n",
       "       0, 0, 0, 0, 0, 0, 0, 0, 0, 0, 0, 0, 0, 0, 0, 0, 0, 0, 0, 0, 0, 0,\n",
       "       0, 0, 0, 0, 0, 0, 0, 0, 0, 0, 0, 0, 0, 0, 0, 0, 0, 0, 0, 0, 0, 0,\n",
       "       0, 0, 0, 0, 0, 0, 0, 0, 0, 0, 0, 0, 0, 0, 0, 0, 0, 0, 0, 0, 0, 0,\n",
       "       0, 0, 0, 0, 0, 0, 0, 0, 0, 0, 0, 0, 0, 0, 0, 0, 0, 0, 0, 0, 0, 0,\n",
       "       0, 0, 0, 0, 0, 0, 0, 0, 0, 0, 0, 0, 0, 0, 0, 0, 0, 0, 0, 0, 0, 0,\n",
       "       0, 0, 0, 0, 0, 0, 0, 0, 0, 0, 0, 0, 0, 0, 0, 0, 0, 0, 0, 0, 0, 0,\n",
       "       0, 0, 0, 0, 0, 0, 0, 0, 0, 0, 0, 0, 0, 0, 0, 0, 0, 0, 0, 0, 0, 0,\n",
       "       0, 0, 0, 0, 0, 0, 0, 0, 0, 0, 0, 0, 0, 0, 0, 0, 0, 0, 0, 0, 0, 0,\n",
       "       0, 0, 0, 0, 0, 0, 0, 0, 0, 0, 0, 0, 0, 0, 0, 0, 0, 0, 0, 0, 0, 0,\n",
       "       0, 0, 0, 0, 0, 0, 0, 0, 0, 0, 0, 0, 0, 0, 0, 0, 0, 0, 0, 0, 0, 0,\n",
       "       0, 0, 0, 0], dtype=int64)"
      ]
     },
     "execution_count": 46,
     "metadata": {},
     "output_type": "execute_result"
    }
   ],
   "source": [
    "y_predicted"
   ]
  },
  {
   "cell_type": "markdown",
   "id": "86c57c62",
   "metadata": {},
   "source": [
    "model.coef_ indicates value of m in y=m*x + b equation"
   ]
  },
  {
   "cell_type": "code",
   "execution_count": 47,
   "id": "b3c27a86",
   "metadata": {},
   "outputs": [
    {
     "data": {
      "text/plain": [
       "array([[-0.00968296]])"
      ]
     },
     "execution_count": 47,
     "metadata": {},
     "output_type": "execute_result"
    }
   ],
   "source": [
    "model.coef_"
   ]
  },
  {
   "cell_type": "markdown",
   "id": "e50625e0",
   "metadata": {},
   "source": [
    "model.intercept_ indicates value of b in y=m*x + b equation"
   ]
  },
  {
   "cell_type": "code",
   "execution_count": 48,
   "id": "a2e4341b",
   "metadata": {},
   "outputs": [
    {
     "data": {
      "text/plain": [
       "array([-0.98378506])"
      ]
     },
     "execution_count": 48,
     "metadata": {},
     "output_type": "execute_result"
    }
   ],
   "source": [
    "model.intercept_"
   ]
  },
  {
   "cell_type": "markdown",
   "id": "0b8cde13",
   "metadata": {},
   "source": [
    "Lets defined sigmoid function now and do the math with hand"
   ]
  },
  {
   "cell_type": "code",
   "execution_count": 49,
   "id": "eee9d4e3",
   "metadata": {},
   "outputs": [],
   "source": [
    "import math\n",
    "def sigmoid(x):\n",
    "  return 1 / (1 + math.exp(-x))"
   ]
  },
  {
   "cell_type": "code",
   "execution_count": 50,
   "id": "0932715b",
   "metadata": {},
   "outputs": [],
   "source": [
    "def prediction_function(age):\n",
    "    z = 0.042 * age - 1.53 # 0.04150133 ~ 0.042 and -1.52726963 ~ -1.53\n",
    "    y = sigmoid(z)\n",
    "    return y"
   ]
  },
  {
   "cell_type": "code",
   "execution_count": 51,
   "id": "4f766475",
   "metadata": {},
   "outputs": [
    {
     "data": {
      "text/plain": [
       "0.4850044983805899"
      ]
     },
     "execution_count": 51,
     "metadata": {},
     "output_type": "execute_result"
    }
   ],
   "source": [
    "age = 35\n",
    "prediction_function(age)"
   ]
  },
  {
   "cell_type": "markdown",
   "id": "7c5d80ad",
   "metadata": {},
   "source": [
    "0.485 is less than 0.5 which means person with 35 age will not a smoker"
   ]
  },
  {
   "cell_type": "code",
   "execution_count": 52,
   "id": "5813907e",
   "metadata": {},
   "outputs": [
    {
     "data": {
      "text/plain": [
       "0.568565299077705"
      ]
     },
     "execution_count": 52,
     "metadata": {},
     "output_type": "execute_result"
    }
   ],
   "source": [
    "age = 43\n",
    "prediction_function(age)"
   ]
  },
  {
   "cell_type": "markdown",
   "id": "4883282d",
   "metadata": {},
   "source": [
    "0.485 is more than 0.5 which means person with 43 will be a smoker"
   ]
  },
  {
   "cell_type": "code",
   "execution_count": null,
   "id": "35199fb3",
   "metadata": {},
   "outputs": [],
   "source": []
  }
 ],
 "metadata": {
  "kernelspec": {
   "display_name": "Python 3 (ipykernel)",
   "language": "python",
   "name": "python3"
  },
  "language_info": {
   "codemirror_mode": {
    "name": "ipython",
    "version": 3
   },
   "file_extension": ".py",
   "mimetype": "text/x-python",
   "name": "python",
   "nbconvert_exporter": "python",
   "pygments_lexer": "ipython3",
   "version": "3.10.9"
  }
 },
 "nbformat": 4,
 "nbformat_minor": 5
}
