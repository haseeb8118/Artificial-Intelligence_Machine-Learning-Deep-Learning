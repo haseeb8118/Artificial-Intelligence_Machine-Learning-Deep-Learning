{
 "cells": [
  {
   "cell_type": "code",
   "execution_count": 13,
   "id": "e5da544a",
   "metadata": {},
   "outputs": [],
   "source": [
    "import tensorflow as tf\n",
    "from tensorflow.keras import layers,models\n",
    "import pandas as pd\n",
    "import numpy as np\n",
    "from tensorflow.keras import layers, models\n",
    "from sklearn.model_selection import train_test_split"
   ]
  },
  {
   "cell_type": "code",
   "execution_count": 17,
   "id": "d2d2f2d9",
   "metadata": {},
   "outputs": [],
   "source": [
    "df = pd.read_csv('fashion-mnist_train.csv')\n",
    "labels = df['label'].values\n",
    "images = df.drop('label', axis=1).values"
   ]
  },
  {
   "cell_type": "code",
   "execution_count": 20,
   "id": "0705a1ca",
   "metadata": {},
   "outputs": [
    {
     "name": "stdout",
     "output_type": "stream",
     "text": [
      "(60000,)\n",
      "(60000, 784)\n"
     ]
    }
   ],
   "source": [
    "print(labels.shape)\n",
    "print(images.shape)"
   ]
  },
  {
   "cell_type": "code",
   "execution_count": 21,
   "id": "fe9f71c6",
   "metadata": {},
   "outputs": [],
   "source": [
    "# Normalize the pixel values to the range [0, 1]\n",
    "images = images / 255.0"
   ]
  },
  {
   "cell_type": "code",
   "execution_count": 22,
   "id": "bd48e3ca",
   "metadata": {},
   "outputs": [],
   "source": [
    "# Reshape the images to match the shape expected by CNN\n",
    "images = images.reshape(-1, 28, 28, 1)\n"
   ]
  },
  {
   "cell_type": "code",
   "execution_count": 23,
   "id": "173cb80a",
   "metadata": {},
   "outputs": [],
   "source": [
    "# Convert labels to one-hot vectors\n",
    "labels = tf.keras.utils.to_categorical(labels, 10)"
   ]
  },
  {
   "cell_type": "code",
   "execution_count": 24,
   "id": "c5da0ac2",
   "metadata": {},
   "outputs": [],
   "source": [
    "# Split the data into training and testing sets\n",
    "train_images, test_images, train_labels, test_labels = train_test_split(images, labels, test_size=0.1, random_state=42)\n"
   ]
  },
  {
   "cell_type": "code",
   "execution_count": 25,
   "id": "3a01289b",
   "metadata": {},
   "outputs": [],
   "source": [
    "# Create the CNN model\n",
    "model = models.Sequential([\n",
    "    layers.Conv2D(32, (3, 3), activation='relu', input_shape=(28, 28, 1)),\n",
    "    layers.MaxPooling2D((2, 2)),\n",
    "    layers.Conv2D(64, (3, 3), activation='relu'),\n",
    "    layers.MaxPooling2D((2, 2)),\n",
    "    layers.Conv2D(64, (3, 3), activation='relu'),\n",
    "    layers.Flatten(),\n",
    "    layers.Dense(64, activation='relu'),\n",
    "    layers.Dense(10, activation='softmax')\n",
    "])"
   ]
  },
  {
   "cell_type": "code",
   "execution_count": 26,
   "id": "6c65b52e",
   "metadata": {},
   "outputs": [
    {
     "name": "stdout",
     "output_type": "stream",
     "text": [
      "Model: \"sequential\"\n",
      "_________________________________________________________________\n",
      " Layer (type)                Output Shape              Param #   \n",
      "=================================================================\n",
      " conv2d (Conv2D)             (None, 26, 26, 32)        320       \n",
      "                                                                 \n",
      " max_pooling2d (MaxPooling2D  (None, 13, 13, 32)       0         \n",
      " )                                                               \n",
      "                                                                 \n",
      " conv2d_1 (Conv2D)           (None, 11, 11, 64)        18496     \n",
      "                                                                 \n",
      " max_pooling2d_1 (MaxPooling  (None, 5, 5, 64)         0         \n",
      " 2D)                                                             \n",
      "                                                                 \n",
      " conv2d_2 (Conv2D)           (None, 3, 3, 64)          36928     \n",
      "                                                                 \n",
      " flatten (Flatten)           (None, 576)               0         \n",
      "                                                                 \n",
      " dense (Dense)               (None, 64)                36928     \n",
      "                                                                 \n",
      " dense_1 (Dense)             (None, 10)                650       \n",
      "                                                                 \n",
      "=================================================================\n",
      "Total params: 93,322\n",
      "Trainable params: 93,322\n",
      "Non-trainable params: 0\n",
      "_________________________________________________________________\n"
     ]
    }
   ],
   "source": [
    "# Compile the model\n",
    "model.compile(optimizer='adam',\n",
    "              loss='categorical_crossentropy',\n",
    "              metrics=['accuracy'])\n",
    "\n",
    "# Print model summary\n",
    "model.summary()\n"
   ]
  },
  {
   "cell_type": "code",
   "execution_count": 27,
   "id": "c7ee6963",
   "metadata": {},
   "outputs": [
    {
     "name": "stdout",
     "output_type": "stream",
     "text": [
      "Epoch 1/10\n",
      "1519/1519 [==============================] - 50s 29ms/step - loss: 0.5272 - accuracy: 0.8052 - val_loss: 0.4144 - val_accuracy: 0.8511\n",
      "Epoch 2/10\n",
      "1519/1519 [==============================] - 43s 28ms/step - loss: 0.3412 - accuracy: 0.8766 - val_loss: 0.3278 - val_accuracy: 0.8848\n",
      "Epoch 3/10\n",
      "1519/1519 [==============================] - 43s 28ms/step - loss: 0.2912 - accuracy: 0.8936 - val_loss: 0.2873 - val_accuracy: 0.8998\n",
      "Epoch 4/10\n",
      "1519/1519 [==============================] - 43s 28ms/step - loss: 0.2569 - accuracy: 0.9044 - val_loss: 0.3017 - val_accuracy: 0.8861\n",
      "Epoch 5/10\n",
      "1519/1519 [==============================] - 1692s 1s/step - loss: 0.2338 - accuracy: 0.9144 - val_loss: 0.2789 - val_accuracy: 0.9002\n",
      "Epoch 6/10\n",
      "1519/1519 [==============================] - 43s 28ms/step - loss: 0.2103 - accuracy: 0.9223 - val_loss: 0.2617 - val_accuracy: 0.9085\n",
      "Epoch 7/10\n",
      "1519/1519 [==============================] - 43s 29ms/step - loss: 0.1894 - accuracy: 0.9307 - val_loss: 0.2603 - val_accuracy: 0.9039\n",
      "Epoch 8/10\n",
      "1519/1519 [==============================] - 43s 28ms/step - loss: 0.1748 - accuracy: 0.9348 - val_loss: 0.2662 - val_accuracy: 0.9044\n",
      "Epoch 9/10\n",
      "1519/1519 [==============================] - 141s 93ms/step - loss: 0.1574 - accuracy: 0.9420 - val_loss: 0.2856 - val_accuracy: 0.9006\n",
      "Epoch 10/10\n",
      "1519/1519 [==============================] - 44s 29ms/step - loss: 0.1440 - accuracy: 0.9469 - val_loss: 0.2822 - val_accuracy: 0.9061\n"
     ]
    },
    {
     "data": {
      "text/plain": [
       "<keras.callbacks.History at 0x21d30858f70>"
      ]
     },
     "execution_count": 27,
     "metadata": {},
     "output_type": "execute_result"
    }
   ],
   "source": [
    "# Train the model\n",
    "model.fit(train_images, train_labels, epochs=10, batch_size=32, validation_split=0.1, verbose=1)"
   ]
  },
  {
   "cell_type": "code",
   "execution_count": 30,
   "id": "571a83cf",
   "metadata": {},
   "outputs": [
    {
     "name": "stdout",
     "output_type": "stream",
     "text": [
      "1688/1688 [==============================] - 19s 9ms/step - loss: 0.1421 - accuracy: 0.9483\n",
      "Training accuracy: 0.9483333230018616\n"
     ]
    }
   ],
   "source": [
    "train_loss, train_acc = model.evaluate(train_images, train_labels)\n",
    "print(\"Training accuracy:\", train_acc)\n"
   ]
  },
  {
   "cell_type": "code",
   "execution_count": 28,
   "id": "3fa727d1",
   "metadata": {},
   "outputs": [
    {
     "name": "stdout",
     "output_type": "stream",
     "text": [
      "188/188 [==============================] - 5s 9ms/step - loss: 0.2699 - accuracy: 0.9112\n",
      "Test accuracy: 0.9111666679382324\n"
     ]
    }
   ],
   "source": [
    "# Evaluate the model on the test set\n",
    "test_loss, test_acc = model.evaluate(test_images, test_labels)\n",
    "print(\"Test accuracy:\", test_acc)"
   ]
  },
  {
   "cell_type": "code",
   "execution_count": 32,
   "id": "2f5e1055",
   "metadata": {},
   "outputs": [
    {
     "name": "stdout",
     "output_type": "stream",
     "text": [
      "Epoch 1/10\n",
      "1519/1519 [==============================] - 45s 28ms/step - loss: 0.1309 - accuracy: 0.9511 - val_loss: 0.2828 - val_accuracy: 0.9146\n",
      "Epoch 2/10\n",
      "1519/1519 [==============================] - 42s 28ms/step - loss: 0.1207 - accuracy: 0.9553 - val_loss: 0.3093 - val_accuracy: 0.9017\n",
      "Epoch 3/10\n",
      "1519/1519 [==============================] - 42s 28ms/step - loss: 0.1090 - accuracy: 0.9593 - val_loss: 0.3173 - val_accuracy: 0.9089\n",
      "Epoch 4/10\n",
      "1519/1519 [==============================] - 43s 28ms/step - loss: 0.1039 - accuracy: 0.9614 - val_loss: 0.3356 - val_accuracy: 0.9078\n",
      "Epoch 5/10\n",
      "1519/1519 [==============================] - 42s 28ms/step - loss: 0.0941 - accuracy: 0.9640 - val_loss: 0.3567 - val_accuracy: 0.8998\n",
      "Epoch 6/10\n",
      "1519/1519 [==============================] - 44s 29ms/step - loss: 0.0861 - accuracy: 0.9683 - val_loss: 0.3623 - val_accuracy: 0.9065\n",
      "Epoch 7/10\n",
      "1519/1519 [==============================] - 42s 28ms/step - loss: 0.0808 - accuracy: 0.9689 - val_loss: 0.3752 - val_accuracy: 0.9076\n",
      "Epoch 8/10\n",
      "1519/1519 [==============================] - 43s 28ms/step - loss: 0.0750 - accuracy: 0.9723 - val_loss: 0.4097 - val_accuracy: 0.8991\n",
      "Epoch 9/10\n",
      "1519/1519 [==============================] - 43s 28ms/step - loss: 0.0720 - accuracy: 0.9736 - val_loss: 0.4001 - val_accuracy: 0.9057\n",
      "Epoch 10/10\n",
      "1519/1519 [==============================] - 43s 28ms/step - loss: 0.0665 - accuracy: 0.9749 - val_loss: 0.4008 - val_accuracy: 0.9050\n"
     ]
    },
    {
     "data": {
      "text/plain": [
       "Text(0.5, 1.0, 'Training and Validation Accuracy')"
      ]
     },
     "execution_count": 32,
     "metadata": {},
     "output_type": "execute_result"
    },
    {
     "data": {
      "image/png": "[encoded data removed]",
      "text/plain": [
       "<Figure size 1200x400 with 1 Axes>"
      ]
     },
     "metadata": {},
     "output_type": "display_data"
    }
   ],
   "source": [
    "import matplotlib.pyplot as plt\n",
    "\n",
    "# Train the model and store the history\n",
    "history = model.fit(train_images, train_labels, epochs=10, batch_size=32, validation_split=0.1, verbose=1)\n",
    "\n",
    "# Retrieve training and validation accuracy values from the history object\n",
    "training_acc = history.history['accuracy']\n",
    "validation_acc = history.history['val_accuracy']\n",
    "\n",
    "# Retrieve training and validation loss values from the history object\n",
    "training_loss = history.history['loss']\n",
    "validation_loss = history.history['val_loss']\n",
    "\n",
    "# Plot the accuracy curves\n",
    "plt.figure(figsize=(12, 4))\n",
    "plt.subplot(1, 2, 1)\n",
    "plt.plot(training_acc, label='Training Accuracy')\n",
    "plt.plot(validation_acc, label='Validation Accuracy')\n",
    "plt.legend()\n",
    "plt.title('Training and Validation Accuracy')\n",
    "\n",
    "\n",
    "\n",
    "\n"
   ]
  },
  {
   "cell_type": "code",
   "execution_count": null,
   "id": "c24953aa",
   "metadata": {},
   "outputs": [],
   "source": []
  }
 ],
 "metadata": {
  "kernelspec": {
   "display_name": "Python 3 (ipykernel)",
   "language": "python",
   "name": "python3"
  },
  "language_info": {
   "codemirror_mode": {
    "name": "ipython",
    "version": 3
   },
   "file_extension": ".py",
   "mimetype": "text/x-python",
   "name": "python",
   "nbconvert_exporter": "python",
   "pygments_lexer": "ipython3",
   "version": "3.10.9"
  }
 },
 "nbformat": 4,
 "nbformat_minor": 5
}
