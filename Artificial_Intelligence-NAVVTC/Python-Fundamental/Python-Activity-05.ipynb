{
 "cells": [
  {
   "cell_type": "markdown",
   "id": "b0acb00e",
   "metadata": {},
   "source": [
    "Q1.Create a class called Employee with private attributes name and salary. Implement getter and setter methods to access and modify these attributes."
   ]
  },
  {
   "cell_type": "code",
   "execution_count": 2,
   "id": "0e65a951",
   "metadata": {},
   "outputs": [
    {
     "name": "stdout",
     "output_type": "stream",
     "text": [
      "Employee name: John Doe\n",
      "Employee salary: $50000\n",
      "Updated employee name: Jane Smith\n",
      "Updated employee salary: $55000\n"
     ]
    }
   ],
   "source": [
    "class Employee:\n",
    "    def __init__(self, name, salary):\n",
    "        self.__name = name\n",
    "        self.__salary = salary\n",
    "\n",
    "    def get_name(self):\n",
    "        return self.__name\n",
    "\n",
    "    def get_salary(self):\n",
    "        return self.__salary\n",
    "\n",
    "    def set_name(self, name):\n",
    "        self.__name = name\n",
    "\n",
    "    def set_salary(self, salary):\n",
    "        self.__salary = salary\n",
    "\n",
    "employee1 = Employee(\"John Doe\", 50000)\n",
    "\n",
    "print(f\"Employee name: {employee1.get_name()}\")\n",
    "print(f\"Employee salary: ${employee1.get_salary()}\")\n",
    "\n",
    "employee1.set_name(\"Jane Smith\")\n",
    "employee1.set_salary(55000)\n",
    "print(f\"Updated employee name: {employee1.get_name()}\")\n",
    "print(f\"Updated employee salary: ${employee1.get_salary()}\")"
   ]
  },
  {
   "cell_type": "markdown",
   "id": "8d8f6ad2",
   "metadata": {},
   "source": [
    "--------------------------------------------------------------------------------------------------------------------------------"
   ]
  },
  {
   "cell_type": "markdown",
   "id": "3148b26a",
   "metadata": {},
   "source": [
    "Q2.Instantiate an Employee object and set the name as \"John\" and the salary as 5000. Use the getter method to retrieve the name and salary, and print them."
   ]
  },
  {
   "cell_type": "code",
   "execution_count": 3,
   "id": "3e6a1e71",
   "metadata": {},
   "outputs": [
    {
     "name": "stdout",
     "output_type": "stream",
     "text": [
      "Employee Name: John\n",
      "Employee Salary: $5000\n"
     ]
    }
   ],
   "source": [
    "class Employee:\n",
    "    def __init__(self, name, salary):\n",
    "        self.__name = name\n",
    "        self.__salary = salary\n",
    "\n",
    "    def get_name(self):\n",
    "        return self.__name\n",
    "\n",
    "    def get_salary(self):\n",
    "        return self.__salary\n",
    "\n",
    "employee = Employee(\"John\", 5000)\n",
    "\n",
    "employee_name = employee.get_name()\n",
    "employee_salary = employee.get_salary()\n",
    "\n",
    "print(f\"Employee Name: {employee_name}\")\n",
    "print(f\"Employee Salary: ${employee_salary}\")\n"
   ]
  }
 ],
 "metadata": {
  "kernelspec": {
   "display_name": "Python 3 (ipykernel)",
   "language": "python",
   "name": "python3"
  },
  "language_info": {
   "codemirror_mode": {
    "name": "ipython",
    "version": 3
   },
   "file_extension": ".py",
   "mimetype": "text/x-python",
   "name": "python",
   "nbconvert_exporter": "python",
   "pygments_lexer": "ipython3",
   "version": "3.10.9"
  }
 },
 "nbformat": 4,
 "nbformat_minor": 5
}
