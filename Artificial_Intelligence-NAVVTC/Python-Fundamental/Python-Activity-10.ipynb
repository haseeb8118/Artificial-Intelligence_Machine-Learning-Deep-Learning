{
 "cells": [
  {
   "cell_type": "markdown",
   "id": "e84cc136",
   "metadata": {},
   "source": [
    "Q1.Access and print the values of specific keys in a dictionary."
   ]
  },
  {
   "cell_type": "code",
   "execution_count": 8,
   "id": "498bddcb",
   "metadata": {},
   "outputs": [
    {
     "name": "stdout",
     "output_type": "stream",
     "text": [
      "Name: John\n",
      "Age: 30\n"
     ]
    }
   ],
   "source": [
    "my_dict = {\n",
    "    \"name\": \"John\",\n",
    "    \"age\": 30,\n",
    "    \"city\": \"New York\",\n",
    "    \"country\": \"USA\"\n",
    "}\n",
    "\n",
    "print(\"Name:\", my_dict[\"name\"])\n",
    "print(\"Age:\", my_dict[\"age\"])\n"
   ]
  },
  {
   "cell_type": "markdown",
   "id": "58920a9d",
   "metadata": {},
   "source": [
    "--------------------------------------------------------------------------------------------------------------------------------"
   ]
  },
  {
   "cell_type": "markdown",
   "id": "5daba637",
   "metadata": {},
   "source": [
    "Q2.Add new key-value pairs to a dictionary and update the value of an existing key."
   ]
  },
  {
   "cell_type": "code",
   "execution_count": 9,
   "id": "20cd6f3c",
   "metadata": {},
   "outputs": [
    {
     "name": "stdout",
     "output_type": "stream",
     "text": [
      "Original Dictionary:\n",
      "{'name': 'John', 'age': 30, 'city': 'New York'}\n",
      "\n",
      "Updated Dictionary:\n",
      "{'name': 'John', 'age': 30, 'city': 'New York', 'country': 'USA', 'occupation': 'Engineer'}\n",
      "\n",
      "Updated Age:\n",
      "{'name': 'John', 'age': 31, 'city': 'New York', 'country': 'USA', 'occupation': 'Engineer'}\n"
     ]
    }
   ],
   "source": [
    "my_dict = {\n",
    "    \"name\": \"John\",\n",
    "    \"age\": 30,\n",
    "    \"city\": \"New York\"\n",
    "}\n",
    "print(\"Original Dictionary:\")\n",
    "print(my_dict)\n",
    "\n",
    "my_dict[\"country\"] = \"USA\"\n",
    "my_dict[\"occupation\"] = \"Engineer\"\n",
    "\n",
    "print(\"\\nUpdated Dictionary:\")\n",
    "print(my_dict)\n",
    "\n",
    "my_dict[\"age\"] = 31\n",
    "\n",
    "print(\"\\nUpdated Age:\")\n",
    "print(my_dict)"
   ]
  },
  {
   "cell_type": "markdown",
   "id": "5d22e3fb",
   "metadata": {},
   "source": [
    "--------------------------------------------------------------------------------------------------------------------------------"
   ]
  },
  {
   "cell_type": "markdown",
   "id": "1b21ebb4",
   "metadata": {},
   "source": [
    "Q3.Iterate over the keys and print the corresponding values in a dictionary."
   ]
  },
  {
   "cell_type": "code",
   "execution_count": 10,
   "id": "e030e249",
   "metadata": {},
   "outputs": [
    {
     "name": "stdout",
     "output_type": "stream",
     "text": [
      "Key: name, Value: John\n",
      "Key: age, Value: 30\n",
      "Key: city, Value: New York\n",
      "Key: country, Value: USA\n"
     ]
    }
   ],
   "source": [
    "my_dict = {\n",
    "    \"name\": \"John\",\n",
    "    \"age\": 30,\n",
    "    \"city\": \"New York\",\n",
    "    \"country\": \"USA\"\n",
    "}\n",
    "\n",
    "for key in my_dict:\n",
    "    value = my_dict[key]\n",
    "    print(f\"Key: {key}, Value: {value}\")\n"
   ]
  },
  {
   "cell_type": "markdown",
   "id": "07d1f433",
   "metadata": {},
   "source": [
    "--------------------------------------------------------------------------------------------------------------------------------"
   ]
  },
  {
   "cell_type": "markdown",
   "id": "5df3da6a",
   "metadata": {},
   "source": [
    "Q4.Check if a specific key exists in a dictionary."
   ]
  },
  {
   "cell_type": "code",
   "execution_count": 7,
   "id": "b41aad4e",
   "metadata": {},
   "outputs": [
    {
     "name": "stdout",
     "output_type": "stream",
     "text": [
      "The key 'age' exists in the dictionary.\n"
     ]
    }
   ],
   "source": [
    "my_dict = {\n",
    "    \"name\": \"John\",\n",
    "    \"age\": 30,\n",
    "    \"city\": \"New York\",\n",
    "    \"country\": \"USA\"\n",
    "}\n",
    "\n",
    "key_to_check = \"age\"\n",
    "if key_to_check in my_dict:\n",
    "    print(f\"The key '{key_to_check}' exists in the dictionary.\")\n",
    "else:\n",
    "    print(f\"The key '{key_to_check}' does not exist in the dictionary.\")\n"
   ]
  }
 ],
 "metadata": {
  "kernelspec": {
   "display_name": "Python 3 (ipykernel)",
   "language": "python",
   "name": "python3"
  },
  "language_info": {
   "codemirror_mode": {
    "name": "ipython",
    "version": 3
   },
   "file_extension": ".py",
   "mimetype": "text/x-python",
   "name": "python",
   "nbconvert_exporter": "python",
   "pygments_lexer": "ipython3",
   "version": "3.10.9"
  }
 },
 "nbformat": 4,
 "nbformat_minor": 5
}
