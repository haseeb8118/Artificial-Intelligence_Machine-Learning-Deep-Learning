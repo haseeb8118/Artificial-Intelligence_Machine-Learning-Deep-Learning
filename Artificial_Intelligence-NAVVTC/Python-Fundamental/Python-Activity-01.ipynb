{
 "cells": [
  {
   "cell_type": "markdown",
   "id": "1a64a574",
   "metadata": {},
   "source": [
    "Q1.Calculate the area of a rectangle given its length and width."
   ]
  },
  {
   "cell_type": "code",
   "execution_count": 1,
   "id": "d6d7f493",
   "metadata": {},
   "outputs": [
    {
     "name": "stdout",
     "output_type": "stream",
     "text": [
      "Enter the length of the rectangle: 12\n",
      "Enter the width of the rectangle: 2\n",
      "The area of the rectangle with length 12.0 and width 2.0 is 24.0.\n"
     ]
    }
   ],
   "source": [
    "length = float(input(\"Enter the length of the rectangle: \"))\n",
    "width = float(input(\"Enter the width of the rectangle: \"))\n",
    "area = area = length * width\n",
    "print(f\"The area of the rectangle with length {length} and width {width} is {area}.\")\n"
   ]
  },
  {
   "cell_type": "markdown",
   "id": "da89396b",
   "metadata": {},
   "source": [
    "--------------------------------------------------------------------------------------------------------------------------------"
   ]
  },
  {
   "cell_type": "markdown",
   "id": "334913e4",
   "metadata": {},
   "source": [
    "Q2.Concatenate two strings and print the result."
   ]
  },
  {
   "cell_type": "code",
   "execution_count": 2,
   "id": "3ccaf89a",
   "metadata": {},
   "outputs": [
    {
     "name": "stdout",
     "output_type": "stream",
     "text": [
      "Greetings, how are you doing today\n"
     ]
    }
   ],
   "source": [
    "str1 = \"Greetings, \"\n",
    "str2 = \"how are you doing today\"\n",
    "str3 = str1 + str2\n",
    "print(str3)"
   ]
  },
  {
   "cell_type": "markdown",
   "id": "cf7b27a7",
   "metadata": {},
   "source": [
    "--------------------------------------------------------------------------------------------------------------------------------"
   ]
  },
  {
   "cell_type": "markdown",
   "id": "9d66ad91",
   "metadata": {},
   "source": [
    "Q3.Swap the values of two variables"
   ]
  },
  {
   "cell_type": "code",
   "execution_count": 5,
   "id": "f889b6d9",
   "metadata": {},
   "outputs": [
    {
     "name": "stdout",
     "output_type": "stream",
     "text": [
      "- Before swaping val1=23 and val2=32\n",
      "- After swaping val1=32 and val2=23\n"
     ]
    }
   ],
   "source": [
    "val1 = 23\n",
    "val2 = 32\n",
    "print(f'- Before swaping val1={val1} and val2={val2}')\n",
    "val1, val2 = val2, val1\n",
    "print(f'- After swaping val1={val1} and val2={val2}')"
   ]
  }
 ],
 "metadata": {
  "kernelspec": {
   "display_name": "Python 3 (ipykernel)",
   "language": "python",
   "name": "python3"
  },
  "language_info": {
   "codemirror_mode": {
    "name": "ipython",
    "version": 3
   },
   "file_extension": ".py",
   "mimetype": "text/x-python",
   "name": "python",
   "nbconvert_exporter": "python",
   "pygments_lexer": "ipython3",
   "version": "3.10.9"
  }
 },
 "nbformat": 4,
 "nbformat_minor": 5
}
