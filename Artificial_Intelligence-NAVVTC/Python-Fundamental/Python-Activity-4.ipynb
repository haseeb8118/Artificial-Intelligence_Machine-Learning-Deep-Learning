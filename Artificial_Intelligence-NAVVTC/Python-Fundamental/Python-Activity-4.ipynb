{
 "cells": [
  {
   "cell_type": "markdown",
   "id": "7c263ec9",
   "metadata": {},
   "source": [
    "Q1.Create a class to represent a Student and display their information."
   ]
  },
  {
   "cell_type": "code",
   "execution_count": 4,
   "id": "b8569a94",
   "metadata": {},
   "outputs": [
    {
     "name": "stdout",
     "output_type": "stream",
     "text": [
      "Student Information:\n",
      "Name: John Doe\n",
      "Student ID: S12345\n",
      "Grade: A\n",
      "\n",
      "Student Information:\n",
      "Name: Sarah\n",
      "Student ID: S12346\n",
      "Grade: A+\n",
      "\n"
     ]
    }
   ],
   "source": [
    "class Student:\n",
    "    def __init__(self, name, student_id, grade):\n",
    "        self.name = name\n",
    "        self.student_id = student_id\n",
    "        self.grade = grade\n",
    "\n",
    "    def display_info(self):\n",
    "        print(\"Student Information:\")\n",
    "        print(f\"Name: {self.name}\")\n",
    "        print(f\"Student ID: {self.student_id}\")\n",
    "        print(f\"Grade: {self.grade}\")\n",
    "        print()\n",
    "\n",
    "student1 = Student(\"John Doe\", \"S12345\", \"A\")\n",
    "student2 = Student(\"Sarah\", \"S12346\", \"A+\")\n",
    "\n",
    "student1.display_info()\n",
    "student2.display_info()"
   ]
  },
  {
   "cell_type": "markdown",
   "id": "b6ddf3b8",
   "metadata": {},
   "source": [
    "--------------------------------------------------------------------------------------------------------------------------------"
   ]
  },
  {
   "cell_type": "markdown",
   "id": "9a12c5fb",
   "metadata": {},
   "source": [
    "Q2.Create a class to represent a Bank Account and perform deposit and withdrawal operations.\n"
   ]
  },
  {
   "cell_type": "code",
   "execution_count": 6,
   "id": "ddcc12bf",
   "metadata": {},
   "outputs": [
    {
     "name": "stdout",
     "output_type": "stream",
     "text": [
      "Deposited $500.0. New balance: $1500.0\n",
      "Withdraw $200.0. New balance: $1300.0\n",
      "Account Balance for John Doe: $1300.0\n"
     ]
    }
   ],
   "source": [
    "class BankAccount:\n",
    "    def __init__(self, account_number, account_holder, balance=0.0):\n",
    "        self.account_number = account_number\n",
    "        self.account_holder = account_holder\n",
    "        self.balance = balance\n",
    "\n",
    "    def deposit(self, amount):\n",
    "        if amount > 0:\n",
    "            self.balance += amount\n",
    "            print(f\"Deposited ${amount}. New balance: ${self.balance}\")\n",
    "        else:\n",
    "            print(\"Invalid deposit amount. Please deposit a positive amount.\")\n",
    "\n",
    "    def withdraw(self, amount):\n",
    "        if 0 < amount <= self.balance:\n",
    "            self.balance -= amount\n",
    "            print(f\"Withdraw ${amount}. New balance: ${self.balance}\")\n",
    "        else:\n",
    "            print(\"Insufficient funds or invalid withdrawal amount.\")\n",
    "\n",
    "    def display_balance(self):\n",
    "        print(f\"Account Balance for {self.account_holder}: ${self.balance}\")\n",
    "\n",
    "account1 = BankAccount(\"12345\", \"John Doe\", 1000.0)\n",
    "account1.deposit(500.0)\n",
    "account1.withdraw(200.0)\n",
    "account1.display_balance()\n"
   ]
  },
  {
   "cell_type": "markdown",
   "id": "8ab28ddd",
   "metadata": {},
   "source": [
    "--------------------------------------------------------------------------------------------------------------------------------"
   ]
  },
  {
   "cell_type": "markdown",
   "id": "76380a1a",
   "metadata": {},
   "source": [
    "Q3.Create a base class called Vehicle and derived classes for specific vehicle types.\n"
   ]
  },
  {
   "cell_type": "code",
   "execution_count": 10,
   "id": "14d0a1b6",
   "metadata": {},
   "outputs": [
    {
     "name": "stdout",
     "output_type": "stream",
     "text": [
      "2022 Toyota Camry's engine is started.\n",
      "2022 Toyota Camry's horn goes 'Honk honk!'\n",
      "2022 Toyota Camry's engine is stopped.\n",
      "2021 Harley-Davidson Sportster's engine is started.\n",
      "2021 Harley-Davidson Sportster's engine is revving!\n",
      "2021 Harley-Davidson Sportster's engine is stopped.\n"
     ]
    }
   ],
   "source": [
    "class Vehicle:\n",
    "    def __init__(self, make, model, year):\n",
    "        self.make = make\n",
    "        self.model = model\n",
    "        self.year = year\n",
    "\n",
    "    def start_engine(self):\n",
    "        print(f\"{self.year} {self.make} {self.model}'s engine is started.\")\n",
    "\n",
    "    def stop_engine(self):\n",
    "        print(f\"{self.year} {self.make} {self.model}'s engine is stopped.\")\n",
    "\n",
    "class Car(Vehicle):\n",
    "    def __init__(self, make, model, year, num_doors):\n",
    "        super().__init__(make, model, year)\n",
    "        self.num_doors = num_doors\n",
    "\n",
    "    def honk_horn(self):\n",
    "        print(f\"{self.year} {self.make} {self.model}'s horn goes 'Honk honk!'\")\n",
    "\n",
    "class Motorcycle(Vehicle):\n",
    "    def __init__(self, make, model, year, num_wheels):\n",
    "        super().__init__(make, model, year)\n",
    "        self.num_wheels = num_wheels\n",
    "\n",
    "    def rev_engine(self):\n",
    "        print(f\"{self.year} {self.make} {self.model}'s engine is revving!\")\n",
    "\n",
    "car1 = Car(\"Toyota\", \"Camry\", 2022, 4)\n",
    "motorcycle1 = Motorcycle(\"Harley-Davidson\", \"Sportster\", 2021, 2)\n",
    "\n",
    "car1.start_engine()\n",
    "car1.honk_horn()\n",
    "car1.stop_engine()\n",
    "\n",
    "motorcycle1.start_engine()\n",
    "motorcycle1.rev_engine()\n",
    "motorcycle1.stop_engine()\n"
   ]
  }
 ],
 "metadata": {
  "kernelspec": {
   "display_name": "Python 3 (ipykernel)",
   "language": "python",
   "name": "python3"
  },
  "language_info": {
   "codemirror_mode": {
    "name": "ipython",
    "version": 3
   },
   "file_extension": ".py",
   "mimetype": "text/x-python",
   "name": "python",
   "nbconvert_exporter": "python",
   "pygments_lexer": "ipython3",
   "version": "3.10.9"
  }
 },
 "nbformat": 4,
 "nbformat_minor": 5
}
