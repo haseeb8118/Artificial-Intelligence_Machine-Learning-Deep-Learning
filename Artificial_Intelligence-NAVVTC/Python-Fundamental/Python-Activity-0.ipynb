{
 "cells": [
  {
   "cell_type": "markdown",
   "id": "04f014a6",
   "metadata": {},
   "source": [
    "Q1.Print \"Hello, World!\" to the console."
   ]
  },
  {
   "cell_type": "code",
   "execution_count": 2,
   "id": "34d51165",
   "metadata": {},
   "outputs": [
    {
     "name": "stdout",
     "output_type": "stream",
     "text": [
      "\"Hello, World!\"\n"
     ]
    }
   ],
   "source": [
    "print('\"Hello, World!\"')"
   ]
  },
  {
   "cell_type": "markdown",
   "id": "c30afa21",
   "metadata": {},
   "source": [
    "--------------------------------------------------------------------------------------------------------------------------------"
   ]
  },
  {
   "cell_type": "markdown",
   "id": "d0842221",
   "metadata": {},
   "source": [
    "Q2.Add two numbers and print the result."
   ]
  },
  {
   "cell_type": "code",
   "execution_count": 3,
   "id": "3975d33f",
   "metadata": {},
   "outputs": [
    {
     "name": "stdout",
     "output_type": "stream",
     "text": [
      "sum of 5 and 4 = 9\n"
     ]
    }
   ],
   "source": [
    "num1 = 5\n",
    "num2 = 4\n",
    "print(f'sum of {num1} and {num2} = {num1 + num2}')"
   ]
  },
  {
   "cell_type": "markdown",
   "id": "967008f5",
   "metadata": {},
   "source": [
    "--------------------------------------------------------------------------------------------------------------------------------"
   ]
  },
  {
   "cell_type": "markdown",
   "id": "db10ca2f",
   "metadata": {},
   "source": [
    "Q3.Take user input and display a personalized greeting."
   ]
  },
  {
   "cell_type": "code",
   "execution_count": 8,
   "id": "0cfd4e38",
   "metadata": {},
   "outputs": [
    {
     "name": "stdout",
     "output_type": "stream",
     "text": [
      "Enter your name: Mr.John\n",
      "Greeting Mr.John, welcome to python programming.\n"
     ]
    }
   ],
   "source": [
    "userName = input('Enter your name: ')\n",
    "print('Greeting {}, welcome to python programming.'.format(userName))"
   ]
  },
  {
   "cell_type": "markdown",
   "id": "73a03857",
   "metadata": {},
   "source": [
    "--------------------------------------------------------------------------------------------------------------------------------"
   ]
  },
  {
   "cell_type": "markdown",
   "id": "fa3b302a",
   "metadata": {},
   "source": [
    "Q4.Print the current date and time."
   ]
  },
  {
   "cell_type": "code",
   "execution_count": 11,
   "id": "9a457e26",
   "metadata": {},
   "outputs": [
    {
     "name": "stdout",
     "output_type": "stream",
     "text": [
      "2023-09-04 07:10:03.045259\n"
     ]
    }
   ],
   "source": [
    "import datetime as dt\n",
    "print(dt.datetime.now())"
   ]
  },
  {
   "cell_type": "markdown",
   "id": "eb6e44b7",
   "metadata": {},
   "source": [
    "--------------------------------------------------------------------------------------------------------------------------------"
   ]
  },
  {
   "cell_type": "markdown",
   "id": "07e88eb3",
   "metadata": {},
   "source": [
    "Q5.Convert a temperature from Celsius to Fahrenheit."
   ]
  },
  {
   "cell_type": "code",
   "execution_count": 14,
   "id": "2f15c842",
   "metadata": {},
   "outputs": [
    {
     "name": "stdout",
     "output_type": "stream",
     "text": [
      "Enter temperature in Celsius: 32\n",
      "32.0°C is equal to 89.6°F.\n"
     ]
    }
   ],
   "source": [
    "celsius = float(input(\"Enter temperature in Celsius: \"))\n",
    "\n",
    "fahrenheit = fahrenheit = (celsius * 9/5) + 32\n",
    "\n",
    "print(f\"{celsius}°C is equal to {fahrenheit}°F.\")\n"
   ]
  }
 ],
 "metadata": {
  "kernelspec": {
   "display_name": "Python 3 (ipykernel)",
   "language": "python",
   "name": "python3"
  },
  "language_info": {
   "codemirror_mode": {
    "name": "ipython",
    "version": 3
   },
   "file_extension": ".py",
   "mimetype": "text/x-python",
   "name": "python",
   "nbconvert_exporter": "python",
   "pygments_lexer": "ipython3",
   "version": "3.10.9"
  }
 },
 "nbformat": 4,
 "nbformat_minor": 5
}
