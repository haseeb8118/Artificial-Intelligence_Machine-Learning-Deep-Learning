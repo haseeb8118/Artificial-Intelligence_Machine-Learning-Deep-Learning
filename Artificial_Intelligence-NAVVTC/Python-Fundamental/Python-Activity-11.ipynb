{
 "cells": [
  {
   "cell_type": "markdown",
   "id": "81d514de",
   "metadata": {},
   "source": [
    "Q1.Find all occurrences of a specific pattern in a string using the findall function."
   ]
  },
  {
   "cell_type": "code",
   "execution_count": 5,
   "id": "958c5410",
   "metadata": {},
   "outputs": [
    {
     "name": "stdout",
     "output_type": "stream",
     "text": [
      "Occurrences of the pattern:\n",
      "brown\n",
      "brown\n"
     ]
    }
   ],
   "source": [
    "import re\n",
    "\n",
    "text = \"The quick brown fox jumps over the lazy dog. The dog is brown.\"\n",
    "pattern = r'\\b\\w*brown\\w*\\b'\n",
    "matches = re.findall(pattern, text, re.IGNORECASE)\n",
    "\n",
    "print(\"Occurrences of the pattern:\")\n",
    "for match in matches:\n",
    "    print(match)\n"
   ]
  },
  {
   "cell_type": "markdown",
   "id": "eba6fc01",
   "metadata": {},
   "source": [
    "--------------------------------------------------------------------------------------------------------------------------------"
   ]
  },
  {
   "cell_type": "markdown",
   "id": "c164da0b",
   "metadata": {},
   "source": [
    "Q2.Replace a specific pattern in a string using the ‘sub()’ function.\n"
   ]
  },
  {
   "cell_type": "code",
   "execution_count": 6,
   "id": "c6b6dcc7",
   "metadata": {},
   "outputs": [
    {
     "name": "stdout",
     "output_type": "stream",
     "text": [
      "Original Text:\n",
      "The quick brown fox jumps over the lazy dog.\n",
      "\n",
      "Updated Text:\n",
      "The quick red fox jumps over the lazy dog.\n"
     ]
    }
   ],
   "source": [
    "import re\n",
    "\n",
    "text = \"The quick brown fox jumps over the lazy dog.\"\n",
    "pattern = r'\\bbrown\\b'\n",
    "replacement = \"red\"\n",
    "new_text = re.sub(pattern, replacement, text)\n",
    "\n",
    "print(\"Original Text:\")\n",
    "print(text)\n",
    "\n",
    "print(\"\\nUpdated Text:\")\n",
    "print(new_text)\n"
   ]
  }
 ],
 "metadata": {
  "kernelspec": {
   "display_name": "Python 3 (ipykernel)",
   "language": "python",
   "name": "python3"
  },
  "language_info": {
   "codemirror_mode": {
    "name": "ipython",
    "version": 3
   },
   "file_extension": ".py",
   "mimetype": "text/x-python",
   "name": "python",
   "nbconvert_exporter": "python",
   "pygments_lexer": "ipython3",
   "version": "3.10.9"
  }
 },
 "nbformat": 4,
 "nbformat_minor": 5
}
