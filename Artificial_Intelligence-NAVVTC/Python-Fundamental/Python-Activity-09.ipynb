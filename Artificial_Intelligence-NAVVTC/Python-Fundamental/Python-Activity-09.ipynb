{
 "cells": [
  {
   "cell_type": "markdown",
   "id": "0ebc430a",
   "metadata": {},
   "source": [
    "Q1.Find the length of a list and print its elements."
   ]
  },
  {
   "cell_type": "code",
   "execution_count": 4,
   "id": "e9f7f023",
   "metadata": {},
   "outputs": [
    {
     "name": "stdout",
     "output_type": "stream",
     "text": [
      "- The length of the list is: 5\n",
      "- The elements of the list are: \n",
      "1\n",
      "2\n",
      "3\n",
      "4\n",
      "5\n"
     ]
    }
   ],
   "source": [
    "myList = [1, 2, 3, 4, 5]\n",
    "list_length = len(myList)\n",
    "print(f\"- The length of the list is: {list_length}\")\n",
    "\n",
    "print(\"- The elements of the list are: \")\n",
    "for element in myList:\n",
    "    print(element)\n"
   ]
  },
  {
   "cell_type": "markdown",
   "id": "04cc39c7",
   "metadata": {},
   "source": [
    "--------------------------------------------------------------------------------------------------------------------------------"
   ]
  },
  {
   "cell_type": "markdown",
   "id": "b1743be3",
   "metadata": {},
   "source": [
    "Q2.Sort a list in ascending order and reverse the order of the list."
   ]
  },
  {
   "cell_type": "code",
   "execution_count": 6,
   "id": "8a186263",
   "metadata": {},
   "outputs": [
    {
     "name": "stdout",
     "output_type": "stream",
     "text": [
      "Sorted List (Ascending Order): [1, 2, 3, 5, 9]\n",
      "Reversed List: [9, 5, 3, 2, 1]\n"
     ]
    }
   ],
   "source": [
    "myList = [5, 2, 9, 1, 3]\n",
    "sorted_list = sorted(myList)\n",
    "reversed_list = sorted_list[::-1]\n",
    "\n",
    "print(\"Sorted List (Ascending Order):\", sorted_list)\n",
    "print(\"Reversed List:\", reversed_list)"
   ]
  },
  {
   "cell_type": "markdown",
   "id": "e34c101b",
   "metadata": {},
   "source": [
    "--------------------------------------------------------------------------------------------------------------------------------"
   ]
  },
  {
   "cell_type": "markdown",
   "id": "f3a36693",
   "metadata": {},
   "source": [
    "Q3.Append an element to a list and remove a specific element from the list.\n"
   ]
  },
  {
   "cell_type": "code",
   "execution_count": 9,
   "id": "25f4aeed",
   "metadata": {},
   "outputs": [
    {
     "name": "stdout",
     "output_type": "stream",
     "text": [
      "Original List: [1, 2, 3, 4, 5]\n",
      "List after appending 6: [1, 2, 3, 4, 5, 6]\n",
      "List after removing 3: [1, 2, 4, 5, 6]\n"
     ]
    }
   ],
   "source": [
    "myList = [1, 2, 3, 4, 5]\n",
    "print(\"Original List:\", myList)\n",
    "\n",
    "myList.append(6)\n",
    "print(\"List after appending 6:\", myList)\n",
    "\n",
    "if 3 in myList:\n",
    "    myList.remove(3)\n",
    "\n",
    "print(\"List after removing 3:\", myList)"
   ]
  }
 ],
 "metadata": {
  "kernelspec": {
   "display_name": "Python 3 (ipykernel)",
   "language": "python",
   "name": "python3"
  },
  "language_info": {
   "codemirror_mode": {
    "name": "ipython",
    "version": 3
   },
   "file_extension": ".py",
   "mimetype": "text/x-python",
   "name": "python",
   "nbconvert_exporter": "python",
   "pygments_lexer": "ipython3",
   "version": "3.10.9"
  }
 },
 "nbformat": 4,
 "nbformat_minor": 5
}
