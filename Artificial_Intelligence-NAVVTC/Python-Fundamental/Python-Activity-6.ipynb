{
 "cells": [
  {
   "cell_type": "markdown",
   "id": "a3eed8c0",
   "metadata": {},
   "source": [
    "Q1.Create a base class called Shape with a method called area(). Provide a default implementation that prints \"Calculating area of a generic shape\"."
   ]
  },
  {
   "cell_type": "code",
   "execution_count": 1,
   "id": "3235e1f9",
   "metadata": {},
   "outputs": [
    {
     "name": "stdout",
     "output_type": "stream",
     "text": [
      "Calculating area of a generic shape\n"
     ]
    }
   ],
   "source": [
    "class Shape:\n",
    "    def area(self):\n",
    "        print(\"Calculating area of a generic shape\")\n",
    "\n",
    "shape = Shape()\n",
    "shape.area()\n"
   ]
  },
  {
   "cell_type": "markdown",
   "id": "dc5457f5",
   "metadata": {},
   "source": [
    "--------------------------------------------------------------------------------------------------------------------------------"
   ]
  },
  {
   "cell_type": "markdown",
   "id": "9b630895",
   "metadata": {},
   "source": [
    "Q2.Create a subclass called Rectangle that inherits from Shape. Override the area() method to calculate and print the area of a rectangle using the formula: length * width."
   ]
  },
  {
   "cell_type": "code",
   "execution_count": 5,
   "id": "85c4b97d",
   "metadata": {},
   "outputs": [
    {
     "name": "stdout",
     "output_type": "stream",
     "text": [
      "Calculating area of a generic shape\n",
      "Calculating area of a rectangle: 5 x 7 = 35\n"
     ]
    }
   ],
   "source": [
    "class Shape:\n",
    "    def area(self):\n",
    "        print(\"Calculating area of a generic shape\")\n",
    "\n",
    "class Rectangle(Shape):\n",
    "    def __init__(self, length, width):\n",
    "        self.length = length\n",
    "        self.width = width\n",
    "\n",
    "    def area(self):\n",
    "        area = self.length * self.width\n",
    "        print(f\"Calculating area of a rectangle: {self.length} x {self.width} = {area}\")\n",
    "\n",
    "rectangle = Rectangle(5, 7)\n",
    "shape.area()\n",
    "rectangle.area()\n"
   ]
  },
  {
   "cell_type": "markdown",
   "id": "b20d568d",
   "metadata": {},
   "source": [
    "--------------------------------------------------------------------------------------------------------------------------------"
   ]
  },
  {
   "cell_type": "markdown",
   "id": "d3b53b51",
   "metadata": {},
   "source": [
    "Q3.Create another subclass called Circle that inherits from Shape. Override the area() method to calculate and print the area of a circle using the formula: pi * radius^2."
   ]
  },
  {
   "cell_type": "code",
   "execution_count": 6,
   "id": "03aafe94",
   "metadata": {},
   "outputs": [
    {
     "name": "stdout",
     "output_type": "stream",
     "text": [
      "Calculating area of a generic shape\n",
      "Calculating area of a circle: π * 3^2 = 28.27\n"
     ]
    }
   ],
   "source": [
    "import math\n",
    "\n",
    "class Shape:\n",
    "    def area(self):\n",
    "        print(\"Calculating area of a generic shape\")\n",
    "\n",
    "class Circle(Shape):\n",
    "    def __init__(self, radius):\n",
    "        self.radius = radius\n",
    "\n",
    "    def area(self):\n",
    "        area = math.pi * (self.radius ** 2)\n",
    "        print(f\"Calculating area of a circle: π * {self.radius}^2 = {area:.2f}\")\n",
    "\n",
    "circle = Circle(3)\n",
    "shape.area()\n",
    "circle.area()\n"
   ]
  },
  {
   "cell_type": "markdown",
   "id": "c7a1e912",
   "metadata": {},
   "source": [
    "--------------------------------------------------------------------------------------------------------------------------------"
   ]
  },
  {
   "cell_type": "markdown",
   "id": "c27a86fa",
   "metadata": {},
   "source": [
    "Q4.Create instances of both Rectangle and Circle classes. Call the area() method on each object and observe the output.\n"
   ]
  },
  {
   "cell_type": "code",
   "execution_count": 7,
   "id": "0c35ef0d",
   "metadata": {},
   "outputs": [
    {
     "name": "stdout",
     "output_type": "stream",
     "text": [
      "Calculating area of a rectangle: 5 x 7 = 35\n",
      "Calculating area of a circle: π * 3^2 = 28.27\n"
     ]
    }
   ],
   "source": [
    "import math\n",
    "\n",
    "class Shape:\n",
    "    def area(self):\n",
    "        print(\"Calculating area of a generic shape\")\n",
    "\n",
    "class Rectangle(Shape):\n",
    "    def __init__(self, length, width):\n",
    "        self.length = length\n",
    "        self.width = width\n",
    "\n",
    "    def area(self):\n",
    "        area = self.length * self.width\n",
    "        print(f\"Calculating area of a rectangle: {self.length} x {self.width} = {area}\")\n",
    "\n",
    "class Circle(Shape):\n",
    "    def __init__(self, radius):\n",
    "        self.radius = radius\n",
    "\n",
    "    def area(self):\n",
    "        area = math.pi * (self.radius ** 2)\n",
    "        print(f\"Calculating area of a circle: π * {self.radius}^2 = {area:.2f}\")\n",
    "\n",
    "rectangle = Rectangle(5, 7)\n",
    "circle = Circle(3)\n",
    "\n",
    "rectangle.area()\n",
    "circle.area()"
   ]
  }
 ],
 "metadata": {
  "kernelspec": {
   "display_name": "Python 3 (ipykernel)",
   "language": "python",
   "name": "python3"
  },
  "language_info": {
   "codemirror_mode": {
    "name": "ipython",
    "version": 3
   },
   "file_extension": ".py",
   "mimetype": "text/x-python",
   "name": "python",
   "nbconvert_exporter": "python",
   "pygments_lexer": "ipython3",
   "version": "3.10.9"
  }
 },
 "nbformat": 4,
 "nbformat_minor": 5
}
