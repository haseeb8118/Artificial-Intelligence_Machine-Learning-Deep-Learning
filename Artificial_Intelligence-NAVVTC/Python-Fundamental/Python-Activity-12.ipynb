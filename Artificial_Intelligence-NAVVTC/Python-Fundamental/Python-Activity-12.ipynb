{
 "cells": [
  {
   "cell_type": "markdown",
   "id": "9950eae6",
   "metadata": {},
   "source": [
    "Q1.Reshape a NumPy array and perform matrix multiplication."
   ]
  },
  {
   "cell_type": "code",
   "execution_count": 6,
   "id": "85233f43",
   "metadata": {
    "scrolled": true
   },
   "outputs": [
    {
     "name": "stdout",
     "output_type": "stream",
     "text": [
      "Result of matrix multiplication:\n",
      "[[21 24 27]\n",
      " [47 54 61]]\n"
     ]
    }
   ],
   "source": [
    "import numpy as np\n",
    "\n",
    "array1 = np.array([[1, 2], [3, 4]])\n",
    "array2 = np.array([[5, 6, 7], [8, 9, 10]])\n",
    "\n",
    "array1_reshaped = array1.reshape((2, 2))\n",
    "array2_reshaped = array2.reshape((2, 3))\n",
    "\n",
    "result = np.dot(array1_reshaped, array2_reshaped)\n",
    "\n",
    "print(\"Result of matrix multiplication:\")\n",
    "print(result)"
   ]
  },
  {
   "cell_type": "markdown",
   "id": "0cd2c28d",
   "metadata": {},
   "source": [
    "--------------------------------------------------------------------------------------------------------------------------------"
   ]
  },
  {
   "cell_type": "markdown",
   "id": "a38ce060",
   "metadata": {},
   "source": [
    "Q2.Filter the DataFrame based on a specific condition and display the result."
   ]
  },
  {
   "cell_type": "code",
   "execution_count": 7,
   "id": "e276f227",
   "metadata": {},
   "outputs": [
    {
     "name": "stdout",
     "output_type": "stream",
     "text": [
      "Filtered DataFrame:\n",
      "    Name  Age\n",
      "3  David   40\n",
      "4    Eve   45\n"
     ]
    }
   ],
   "source": [
    "import pandas as pd\n",
    "\n",
    "data = {\n",
    "    'Name': ['Alice', 'Bob', 'Charlie', 'David', 'Eve'],\n",
    "    'Age': [25, 30, 35, 40, 45],\n",
    "}\n",
    "\n",
    "df = pd.DataFrame(data)\n",
    "condition = df['Age'] > 35\n",
    "filtered_df = df[condition]\n",
    "\n",
    "print(\"Filtered DataFrame:\")\n",
    "print(filtered_df)"
   ]
  },
  {
   "cell_type": "markdown",
   "id": "5bfa0bfb",
   "metadata": {},
   "source": [
    "--------------------------------------------------------------------------------------------------------------------------------"
   ]
  },
  {
   "cell_type": "markdown",
   "id": "af8349a1",
   "metadata": {},
   "source": [
    "Q3.Perform aggregation operations on a DataFrame, such as calculating the sum and mean.\n"
   ]
  },
  {
   "cell_type": "code",
   "execution_count": 8,
   "id": "7f07bfd5",
   "metadata": {},
   "outputs": [
    {
     "name": "stdout",
     "output_type": "stream",
     "text": [
      "Total Salary: 355000\n",
      "Average Age: 35.0\n"
     ]
    }
   ],
   "source": [
    "import pandas as pd\n",
    "\n",
    "data = {\n",
    "    'Name': ['Alice', 'Bob', 'Charlie', 'David', 'Eve'],\n",
    "    'Age': [25, 30, 35, 40, 45],\n",
    "    'Salary': [50000, 60000, 75000, 90000, 80000]\n",
    "}\n",
    "\n",
    "df = pd.DataFrame(data)\n",
    "\n",
    "total_salary = df['Salary'].sum()\n",
    "average_age = df['Age'].mean()\n",
    "\n",
    "print(f\"Total Salary: {total_salary}\")\n",
    "print(f\"Average Age: {average_age}\")\n"
   ]
  }
 ],
 "metadata": {
  "kernelspec": {
   "display_name": "Python 3 (ipykernel)",
   "language": "python",
   "name": "python3"
  },
  "language_info": {
   "codemirror_mode": {
    "name": "ipython",
    "version": 3
   },
   "file_extension": ".py",
   "mimetype": "text/x-python",
   "name": "python",
   "nbconvert_exporter": "python",
   "pygments_lexer": "ipython3",
   "version": "3.10.9"
  }
 },
 "nbformat": 4,
 "nbformat_minor": 5
}
