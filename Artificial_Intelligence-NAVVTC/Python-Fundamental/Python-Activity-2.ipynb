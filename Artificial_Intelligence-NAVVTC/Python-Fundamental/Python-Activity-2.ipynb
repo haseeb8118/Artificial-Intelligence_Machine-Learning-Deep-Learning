{
 "cells": [
  {
   "cell_type": "markdown",
   "id": "47f133d2",
   "metadata": {},
   "source": [
    "Q1.Determine if a number is even or odd"
   ]
  },
  {
   "cell_type": "code",
   "execution_count": 3,
   "id": "6efc04ff",
   "metadata": {},
   "outputs": [
    {
     "name": "stdout",
     "output_type": "stream",
     "text": [
      "Enter any number: 3\n",
      "3 is odd\n"
     ]
    }
   ],
   "source": [
    "num = int(input('Enter any number: '))\n",
    "if num % 2 == 0:\n",
    "    print(f'{num} is even')\n",
    "else:\n",
    "    print(f'{num} is odd')"
   ]
  },
  {
   "cell_type": "markdown",
   "id": "88875d26",
   "metadata": {},
   "source": [
    "--------------------------------------------------------------------------------------------------------------------------------"
   ]
  },
  {
   "cell_type": "markdown",
   "id": "87ea1d9f",
   "metadata": {},
   "source": [
    "Q2.Find the maximum among three numbers (10,20,15)."
   ]
  },
  {
   "cell_type": "code",
   "execution_count": 4,
   "id": "fd055708",
   "metadata": {},
   "outputs": [
    {
     "name": "stdout",
     "output_type": "stream",
     "text": [
      "20\n"
     ]
    }
   ],
   "source": [
    "maximum = max(10, 20,15)\n",
    "print(maximum)"
   ]
  },
  {
   "cell_type": "markdown",
   "id": "87d48eb7",
   "metadata": {},
   "source": [
    "--------------------------------------------------------------------------------------------------------------------------------"
   ]
  },
  {
   "cell_type": "markdown",
   "id": "d8581883",
   "metadata": {},
   "source": [
    "Q3.Print the multiplication table of any number given by user."
   ]
  },
  {
   "cell_type": "code",
   "execution_count": 9,
   "id": "478df852",
   "metadata": {},
   "outputs": [
    {
     "name": "stdout",
     "output_type": "stream",
     "text": [
      "Enter any number: 2\n",
      "2 x 1 = 2\n",
      "2 x 2 = 4\n",
      "2 x 3 = 6\n",
      "2 x 4 = 8\n",
      "2 x 5 = 10\n",
      "2 x 6 = 12\n",
      "2 x 7 = 14\n",
      "2 x 8 = 16\n",
      "2 x 9 = 18\n",
      "2 x 10 = 20\n"
     ]
    }
   ],
   "source": [
    "num = int(input('Enter any number: '))\n",
    "for i in range (1, 11):\n",
    " print(f'{num} x {i} = {num*i}')"
   ]
  },
  {
   "cell_type": "markdown",
   "id": "c0decc7e",
   "metadata": {},
   "source": [
    "--------------------------------------------------------------------------------------------------------------------------------"
   ]
  },
  {
   "cell_type": "markdown",
   "id": "f0f3a5a9",
   "metadata": {},
   "source": [
    "Q4.Check if a student's grade is \"Pass,\" \"Fail,\" or \"Needs Improvement\" based on their score.\n"
   ]
  },
  {
   "cell_type": "code",
   "execution_count": 11,
   "id": "643a455a",
   "metadata": {},
   "outputs": [
    {
     "name": "stdout",
     "output_type": "stream",
     "text": [
      "Enter the student's score: 49\n",
      "The student's grade is: Fail\n"
     ]
    }
   ],
   "source": [
    "score = float(input(\"Enter the student's score: \"))\n",
    "\n",
    "if score >= 70:\n",
    "    grade = \"Pass\"\n",
    "elif score >= 50:\n",
    "    grade = \"Needs Improvement\"\n",
    "else:\n",
    "    grade = \"Fail\"\n",
    "\n",
    "print(f\"The student's grade is: {grade}\")\n"
   ]
  },
  {
   "cell_type": "code",
   "execution_count": null,
   "id": "890034b4",
   "metadata": {},
   "outputs": [],
   "source": []
  }
 ],
 "metadata": {
  "kernelspec": {
   "display_name": "Python 3 (ipykernel)",
   "language": "python",
   "name": "python3"
  },
  "language_info": {
   "codemirror_mode": {
    "name": "ipython",
    "version": 3
   },
   "file_extension": ".py",
   "mimetype": "text/x-python",
   "name": "python",
   "nbconvert_exporter": "python",
   "pygments_lexer": "ipython3",
   "version": "3.10.9"
  }
 },
 "nbformat": 4,
 "nbformat_minor": 5
}
