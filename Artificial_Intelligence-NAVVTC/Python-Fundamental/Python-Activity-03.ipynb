{
 "cells": [
  {
   "cell_type": "markdown",
   "id": "beebe534",
   "metadata": {},
   "source": [
    "Q1.Create a function to check if a number is prime."
   ]
  },
  {
   "cell_type": "code",
   "execution_count": 3,
   "id": "e5af6ebc",
   "metadata": {},
   "outputs": [
    {
     "name": "stdout",
     "output_type": "stream",
     "text": [
      "Enter a number: 12\n",
      "12 is not a prime number.\n"
     ]
    }
   ],
   "source": [
    "def is_prime(number):\n",
    "    if number <= 1:\n",
    "        return False\n",
    "\n",
    "    for i in range(2, int(number**0.5) + 1):\n",
    "        if number % i == 0:\n",
    "            return False\n",
    "\n",
    "    return True\n",
    "\n",
    "num = int(input(\"Enter a number: \"))\n",
    "if is_prime(num):\n",
    "    print(f\"{num} is a prime number.\")\n",
    "else:\n",
    "    print(f\"{num} is not a prime number.\")\n"
   ]
  },
  {
   "cell_type": "markdown",
   "id": "dddb60e3",
   "metadata": {},
   "source": [
    "--------------------------------------------------------------------------------------------------------------------------------"
   ]
  },
  {
   "cell_type": "markdown",
   "id": "7582005f",
   "metadata": {},
   "source": [
    "Q2.Create a function to calculate the area of a circle given its radius."
   ]
  },
  {
   "cell_type": "code",
   "execution_count": 4,
   "id": "948ca6a0",
   "metadata": {},
   "outputs": [
    {
     "name": "stdout",
     "output_type": "stream",
     "text": [
      "Enter the radius of the circle: 12\n",
      "The area of the circle with radius 12.0 is 452.39.\n"
     ]
    }
   ],
   "source": [
    "def calculate_circle_area(radius):\n",
    "    if radius < 0:\n",
    "        return \"Radius cannot be negative.\"\n",
    "    else:\n",
    "        area = 3.14159 * (radius ** 2)\n",
    "        return area\n",
    "\n",
    "radius = float(input(\"Enter the radius of the circle: \"))\n",
    "circle_area = calculate_circle_area(radius)\n",
    "print(f\"The area of the circle with radius {radius} is {circle_area:.2f}.\")"
   ]
  },
  {
   "cell_type": "markdown",
   "id": "2098d46f",
   "metadata": {},
   "source": [
    "--------------------------------------------------------------------------------------------------------------------------------"
   ]
  },
  {
   "cell_type": "markdown",
   "id": "409e3396",
   "metadata": {},
   "source": [
    "Q3.Use the ‘len’ function to count the number of characters in a string."
   ]
  },
  {
   "cell_type": "code",
   "execution_count": 7,
   "id": "38681bbf",
   "metadata": {},
   "outputs": [
    {
     "name": "stdout",
     "output_type": "stream",
     "text": [
      "11 letters in \"Hello World\"\n"
     ]
    }
   ],
   "source": [
    "str = \"Hello World\"\n",
    "print(f'{len(str)} letters in \"{str}\"')"
   ]
  },
  {
   "cell_type": "markdown",
   "id": "bcd3c769",
   "metadata": {},
   "source": [
    "--------------------------------------------------------------------------------------------------------------------------------"
   ]
  },
  {
   "cell_type": "markdown",
   "id": "51a22a04",
   "metadata": {},
   "source": [
    "Q4.Create a recursive function to calculate the factorial of a given number."
   ]
  },
  {
   "cell_type": "code",
   "execution_count": 8,
   "id": "066e0673",
   "metadata": {},
   "outputs": [
    {
     "name": "stdout",
     "output_type": "stream",
     "text": [
      "Enter a non-negative integer: 4\n",
      "The factorial of 4 is 24.\n"
     ]
    }
   ],
   "source": [
    "def factorial(n):\n",
    "    if n == 0:\n",
    "        return 1\n",
    "    else:\n",
    "        return n * factorial(n - 1)\n",
    "\n",
    "num = int(input(\"Enter a non-negative integer: \"))\n",
    "if num < 0:\n",
    "    print(\"Factorial is not defined for negative numbers.\")\n",
    "else:\n",
    "    result = factorial(num)\n",
    "    print(f\"The factorial of {num} is {result}.\")\n"
   ]
  }
 ],
 "metadata": {
  "kernelspec": {
   "display_name": "Python 3 (ipykernel)",
   "language": "python",
   "name": "python3"
  },
  "language_info": {
   "codemirror_mode": {
    "name": "ipython",
    "version": 3
   },
   "file_extension": ".py",
   "mimetype": "text/x-python",
   "name": "python",
   "nbconvert_exporter": "python",
   "pygments_lexer": "ipython3",
   "version": "3.10.9"
  }
 },
 "nbformat": 4,
 "nbformat_minor": 5
}
