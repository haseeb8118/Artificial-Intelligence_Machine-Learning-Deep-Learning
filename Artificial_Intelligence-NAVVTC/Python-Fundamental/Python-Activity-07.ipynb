{
 "cells": [
  {
   "cell_type": "markdown",
   "id": "64f98935",
   "metadata": {},
   "source": [
    "Q1.Create a base class called Animal with a method called sound(). Provide a default implementation that prints \"Making a generic animal sound\"."
   ]
  },
  {
   "cell_type": "code",
   "execution_count": 1,
   "id": "d77fdab4",
   "metadata": {},
   "outputs": [
    {
     "name": "stdout",
     "output_type": "stream",
     "text": [
      "Making a generic animal sound\n"
     ]
    }
   ],
   "source": [
    "class Animal:\n",
    "    def sound(self):\n",
    "        print(\"Making a generic animal sound\")\n",
    "\n",
    "animal = Animal()\n",
    "\n",
    "animal.sound()\n"
   ]
  },
  {
   "cell_type": "markdown",
   "id": "45a9a07f",
   "metadata": {},
   "source": [
    "--------------------------------------------------------------------------------------------------------------------------------"
   ]
  },
  {
   "cell_type": "markdown",
   "id": "f962f8e7",
   "metadata": {},
   "source": [
    "Q2.Create two subclasses, Dog and Cat, that inherit from Animal. Override the sound() method in each subclass to provide the specific sound for each animal."
   ]
  },
  {
   "cell_type": "code",
   "execution_count": 2,
   "id": "290eb729",
   "metadata": {},
   "outputs": [
    {
     "name": "stdout",
     "output_type": "stream",
     "text": [
      "Dog barks\n",
      "Cat meows\n"
     ]
    }
   ],
   "source": [
    "class Animal:\n",
    "    def sound(self):\n",
    "        print(\"Making a generic animal sound\")\n",
    "\n",
    "class Dog(Animal):\n",
    "    def sound(self):\n",
    "        print(\"Dog barks\")\n",
    "\n",
    "class Cat(Animal):\n",
    "    def sound(self):\n",
    "        print(\"Cat meows\")\n",
    "\n",
    "dog = Dog()\n",
    "cat = Cat()\n",
    "\n",
    "dog.sound()\n",
    "cat.sound()"
   ]
  },
  {
   "cell_type": "markdown",
   "id": "cd8944aa",
   "metadata": {},
   "source": [
    "--------------------------------------------------------------------------------------------------------------------------------"
   ]
  },
  {
   "cell_type": "markdown",
   "id": "95529ce5",
   "metadata": {},
   "source": [
    "Q3.Write a function called make_sound() that takes an Animal object as a parameter and calls the sound() method on it."
   ]
  },
  {
   "cell_type": "code",
   "execution_count": 3,
   "id": "851bf609",
   "metadata": {},
   "outputs": [
    {
     "name": "stdout",
     "output_type": "stream",
     "text": [
      "Dog barks\n",
      "Cat meows\n"
     ]
    }
   ],
   "source": [
    "class Animal:\n",
    "    def sound(self):\n",
    "        print(\"Making a generic animal sound\")\n",
    "\n",
    "class Dog(Animal):\n",
    "    def sound(self):\n",
    "        print(\"Dog barks\")\n",
    "\n",
    "class Cat(Animal):\n",
    "    def sound(self):\n",
    "        print(\"Cat meows\")\n",
    "\n",
    "def make_sound(animal):\n",
    "    animal.sound()\n",
    "\n",
    "dog = Dog()\n",
    "cat = Cat()\n",
    "\n",
    "make_sound(dog)\n",
    "make_sound(cat)"
   ]
  },
  {
   "cell_type": "markdown",
   "id": "da7d18a0",
   "metadata": {},
   "source": [
    "--------------------------------------------------------------------------------------------------------------------------------"
   ]
  },
  {
   "cell_type": "markdown",
   "id": "70e60045",
   "metadata": {},
   "source": [
    "Q4.Create instances of Dog and Cat and pass them as arguments to the make_sound() function. Observe how the function can handle different animal objects and produce the appropriate sound.\n"
   ]
  },
  {
   "cell_type": "code",
   "execution_count": 7,
   "id": "68f23676",
   "metadata": {},
   "outputs": [
    {
     "name": "stdout",
     "output_type": "stream",
     "text": [
      "Calling make_sound() with a Dog object:\n",
      "Dog barks\n",
      "\n",
      "Calling make_sound() with a Cat object:\n",
      "Cat meows\n"
     ]
    }
   ],
   "source": [
    "class Animal:\n",
    "    def sound(self):\n",
    "        print(\"Making a generic animal sound\")\n",
    "\n",
    "class Dog(Animal):\n",
    "    def sound(self):\n",
    "        print(\"Dog barks\")\n",
    "\n",
    "class Cat(Animal):\n",
    "    def sound(self):\n",
    "        print(\"Cat meows\")\n",
    "\n",
    "def make_sound(animal):\n",
    "    animal.sound()\n",
    "\n",
    "dog = Dog()\n",
    "cat = Cat()\n",
    "\n",
    "print(\"Calling make_sound() with a Dog object:\")\n",
    "make_sound(dog)\n",
    "\n",
    "print(\"\\nCalling make_sound() with a Cat object:\")\n",
    "make_sound(cat)\n"
   ]
  }
 ],
 "metadata": {
  "kernelspec": {
   "display_name": "Python 3 (ipykernel)",
   "language": "python",
   "name": "python3"
  },
  "language_info": {
   "codemirror_mode": {
    "name": "ipython",
    "version": 3
   },
   "file_extension": ".py",
   "mimetype": "text/x-python",
   "name": "python",
   "nbconvert_exporter": "python",
   "pygments_lexer": "ipython3",
   "version": "3.10.9"
  }
 },
 "nbformat": 4,
 "nbformat_minor": 5
}
